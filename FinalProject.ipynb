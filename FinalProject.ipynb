{
  "nbformat": 4,
  "nbformat_minor": 0,
  "metadata": {
    "colab": {
      "name": "FinalProject.ipynb",
      "provenance": []
    },
    "kernelspec": {
      "name": "python3",
      "display_name": "Python 3"
    }
  },
  "cells": [
    {
      "cell_type": "markdown",
      "metadata": {
        "id": "rTmA8tYRXvtD"
      },
      "source": [
        "# Introduction\r\n",
        "\r\n",
        "New York City's demographics show that it is a large and ethnically diverse metropolis. It is the largest city in the United States with a long history of international immigration. New York City was home to nearly 8.5 million people in 2014.\r\n",
        "\r\n",
        "Throughout its history, New York City has been a major point of entry for immigrants; the term \"melting pot\" was coined to describe densely populated immigrant neighborhoods on the Lower East Side. As many as 800 languages are spoken in New York, making it the most linguistically diverse city in the world. \r\n",
        "\r\n",
        "With it's diverse culture, comes diverse cultural food. So as part of this project, we will list and visualize all major parts of New York City that have  great French resturants.\r\n"
      ]
    },
    {
      "cell_type": "markdown",
      "metadata": {
        "id": "KwVewB1FX3Ca"
      },
      "source": [
        "# Data\r\n",
        "\r\n",
        "\r\n",
        "Data For this project we need the following data :\r\n",
        "\r\n",
        "New York City data that contains list Boroughs, Neighborhoods along with their latitude and longitude. Data source : https://cocl.us/new_york_dataset \r\n",
        "\r\n",
        "Description : This data set contains the required information. And we will use this data set to explore various neighborhoods of new york city.\r\n",
        "\r\n",
        "Data source : Fousquare API\r\n",
        "\r\n",
        "Description : By using this api we will get all the venues in each neighborhood. We can filter these venues to get only french resturants. \r\n",
        "\r\n",
        "GeoSpace data Data source : https://data.cityofnewyork.us/City-Government/Borough-Boundaries/tqmj-j8zm \r\n",
        "\r\n",
        "Description : By using this geo space data we will get the New york Borough boundaries that will help us visualize choropleth map.\r\n"
      ]
    },
    {
      "cell_type": "code",
      "metadata": {
        "id": "zKy03YZ6VL0B",
        "colab": {
          "base_uri": "https://localhost:8080/"
        },
        "outputId": "ef61cb49-5383-44cd-e2ef-c0bc87637251"
      },
      "source": [
        "# Importing libraries\r\n",
        "\r\n",
        "import pandas as pd\r\n",
        "import numpy as np\r\n",
        "pd.set_option('display.max_columns', None)\r\n",
        "pd.set_option('display.max_rows', None)\r\n",
        "import requests\r\n",
        "import sys\r\n",
        "from bs4 import BeautifulSoup\r\n",
        "!pip install geocoder\r\n",
        "import geocoder\r\n",
        "import os\r\n",
        "import folium # map rendering library\r\n",
        "from geopy.geocoders import Nominatim \r\n",
        "import matplotlib.pyplot as plt\r\n",
        "import matplotlib.cm as cm\r\n",
        "import matplotlib.colors as colors\r\n",
        "%matplotlib inline\r\n",
        "\r\n",
        "\r\n",
        "print('Libraries imported.')"
      ],
      "execution_count": null,
      "outputs": [
        {
          "output_type": "stream",
          "text": [
            "Collecting geocoder\n",
            "\u001b[?25l  Downloading https://files.pythonhosted.org/packages/4f/6b/13166c909ad2f2d76b929a4227c952630ebaf0d729f6317eb09cbceccbab/geocoder-1.38.1-py2.py3-none-any.whl (98kB)\n",
            "\r\u001b[K     |███▎                            | 10kB 16.8MB/s eta 0:00:01\r\u001b[K     |██████▋                         | 20kB 22.7MB/s eta 0:00:01\r\u001b[K     |██████████                      | 30kB 17.2MB/s eta 0:00:01\r\u001b[K     |█████████████▎                  | 40kB 11.0MB/s eta 0:00:01\r\u001b[K     |████████████████▋               | 51kB 4.8MB/s eta 0:00:01\r\u001b[K     |████████████████████            | 61kB 5.0MB/s eta 0:00:01\r\u001b[K     |███████████████████████▎        | 71kB 5.5MB/s eta 0:00:01\r\u001b[K     |██████████████████████████▋     | 81kB 5.7MB/s eta 0:00:01\r\u001b[K     |██████████████████████████████  | 92kB 5.7MB/s eta 0:00:01\r\u001b[K     |████████████████████████████████| 102kB 3.9MB/s \n",
            "\u001b[?25hRequirement already satisfied: click in /usr/local/lib/python3.6/dist-packages (from geocoder) (7.1.2)\n",
            "Requirement already satisfied: six in /usr/local/lib/python3.6/dist-packages (from geocoder) (1.15.0)\n",
            "Requirement already satisfied: future in /usr/local/lib/python3.6/dist-packages (from geocoder) (0.16.0)\n",
            "Collecting ratelim\n",
            "  Downloading https://files.pythonhosted.org/packages/f2/98/7e6d147fd16a10a5f821db6e25f192265d6ecca3d82957a4fdd592cad49c/ratelim-0.1.6-py2.py3-none-any.whl\n",
            "Requirement already satisfied: requests in /usr/local/lib/python3.6/dist-packages (from geocoder) (2.23.0)\n",
            "Requirement already satisfied: decorator in /usr/local/lib/python3.6/dist-packages (from ratelim->geocoder) (4.4.2)\n",
            "Requirement already satisfied: certifi>=2017.4.17 in /usr/local/lib/python3.6/dist-packages (from requests->geocoder) (2020.12.5)\n",
            "Requirement already satisfied: chardet<4,>=3.0.2 in /usr/local/lib/python3.6/dist-packages (from requests->geocoder) (3.0.4)\n",
            "Requirement already satisfied: idna<3,>=2.5 in /usr/local/lib/python3.6/dist-packages (from requests->geocoder) (2.10)\n",
            "Requirement already satisfied: urllib3!=1.25.0,!=1.25.1,<1.26,>=1.21.1 in /usr/local/lib/python3.6/dist-packages (from requests->geocoder) (1.24.3)\n",
            "Installing collected packages: ratelim, geocoder\n",
            "Successfully installed geocoder-1.38.1 ratelim-0.1.6\n",
            "Libraries imported.\n"
          ],
          "name": "stdout"
        }
      ]
    },
    {
      "cell_type": "markdown",
      "metadata": {
        "id": "kVWOemY5gogV"
      },
      "source": [
        "\r\n",
        "\r\n",
        "Now we define a function to get the geocodes i.e latitude and longitude of a given location using geopy.\r\n"
      ]
    },
    {
      "cell_type": "code",
      "metadata": {
        "id": "0UvuxDutgpGE"
      },
      "source": [
        "def geo_location(address):\r\n",
        "    # get geo location of address\r\n",
        "    geolocator = Nominatim(user_agent=\"ny_explorer\")\r\n",
        "    location = geolocator.geocode(address)\r\n",
        "    latitude = location.latitude\r\n",
        "    longitude = location.longitude\r\n",
        "    return latitude,longitude"
      ],
      "execution_count": null,
      "outputs": []
    },
    {
      "cell_type": "code",
      "metadata": {
        "id": "DE49aEMtgvub"
      },
      "source": [
        "def get_venues(lat,lng):\r\n",
        "    \r\n",
        "    #set variables\r\n",
        "    CODE = 'YGFEHA4LIYPOPAVCJGOP3VZJXD5EP01NWR2M5DL1CG4YAE0H#_=_'\r\n",
        "    CLIENT_ID = 'DV4Z5RO1FG2GFVSZE42KHY1QGZSQB5QB13S11OIGJS3L2KNI' # your Foursquare ID\r\n",
        "    CLIENT_SECRET = 'I1GBDHPRWAIVVL3DNMQLZHFFWQVTQR3AW5LJBT0J33JH2V4U' # your Foursquare Secret\r\n",
        "    ACCESS_TOKEN = '5TQJIVKCA15AYK1MNAFT4GIJHBALP24XJEZ0GLCPIVZAZMGO' # your FourSquare Access Token\r\n",
        "    VERSION = '20180605' # Foursquare API version\r\n",
        "    radius=1000\r\n",
        "    LIMIT=100\r\n",
        "    \r\n",
        "    #url to fetch data from foursquare api\r\n",
        "    url = 'https://api.foursquare.com/v2/venues/explore?&client_id={}&client_secret={}&v={}&ll={},{}&radius={}&limit={}'.format(\r\n",
        "            CLIENT_ID, \r\n",
        "            CLIENT_SECRET, \r\n",
        "            VERSION, \r\n",
        "            lat, \r\n",
        "            lng, \r\n",
        "            radius, \r\n",
        "            LIMIT)\r\n",
        "    \r\n",
        "    # get all the data\r\n",
        "    results = requests.get(url).json()\r\n",
        "    venue_data=results[\"response\"]['groups'][0]['items']\r\n",
        "    venue_details=[]\r\n",
        "    for row in venue_data:\r\n",
        "        try:\r\n",
        "            venue_id=row['venue']['id']\r\n",
        "            venue_name=row['venue']['name']\r\n",
        "            venue_category=row['venue']['categories'][0]['name']\r\n",
        "            venue_details.append([venue_id,venue_name,venue_category])\r\n",
        "        except KeyError:\r\n",
        "            pass\r\n",
        "        \r\n",
        "    column_names=['ID','Name','Category']\r\n",
        "    df = pd.DataFrame(venue_details,columns=column_names)\r\n",
        "    print(\"done\")\r\n",
        "    return df"
      ],
      "execution_count": null,
      "outputs": []
    },
    {
      "cell_type": "markdown",
      "metadata": {
        "id": "TYLCNxlQg1or"
      },
      "source": [
        "Now we will define a function to get venue details like like count , rating , tip counts for a given venue id. This will be used for ranking."
      ]
    },
    {
      "cell_type": "code",
      "metadata": {
        "id": "mw9C_ujLg0Fp"
      },
      "source": [
        "def get_venue_details(venue_id):\r\n",
        "        \r\n",
        "     #set variables\r\n",
        "    CODE = 'YGFEHA4LIYPOPAVCJGOP3VZJXD5EP01NWR2M5DL1CG4YAE0H#_=_'\r\n",
        "    CLIENT_ID = 'DV4Z5RO1FG2GFVSZE42KHY1QGZSQB5QB13S11OIGJS3L2KNI' # your Foursquare ID\r\n",
        "    CLIENT_SECRET = 'I1GBDHPRWAIVVL3DNMQLZHFFWQVTQR3AW5LJBT0J33JH2V4U' # your Foursquare Secret\r\n",
        "    ACCESS_TOKEN = '5TQJIVKCA15AYK1MNAFT4GIJHBALP24XJEZ0GLCPIVZAZMGO' # your FourSquare Access Token\r\n",
        "    VERSION = '20180605' # Foursquare API version\r\n",
        "    \r\n",
        "    #url to fetch data from foursquare api\r\n",
        "    url = 'https://api.foursquare.com/v2/venues/{}?&client_id={}&client_secret={}&v={}'.format(\r\n",
        "            venue_id,\r\n",
        "            CLIENT_ID, \r\n",
        "            CLIENT_SECRET, \r\n",
        "            VERSION)\r\n",
        "    \r\n",
        "    # get all the data\r\n",
        "    results = requests.get(url).json()\r\n",
        "    venue_data=results['response']['venue']\r\n",
        "    venue_details=[]\r\n",
        "    try:\r\n",
        "        venue_id=venue_data['id']\r\n",
        "        venue_name=venue_data['name']\r\n",
        "        venue_likes=venue_data['likes']['count']\r\n",
        "        venue_rating=venue_data['rating']\r\n",
        "        venue_tips=venue_data['tips']['count']\r\n",
        "        venue_details.append([venue_id,venue_name,venue_likes,venue_rating,venue_tips])\r\n",
        "    except KeyError:\r\n",
        "        pass\r\n",
        "        \r\n",
        "    column_names=['ID','Name','Likes','Rating','Tips']\r\n",
        "    df = pd.DataFrame(venue_details,columns=column_names)\r\n",
        "    return df"
      ],
      "execution_count": null,
      "outputs": []
    },
    {
      "cell_type": "markdown",
      "metadata": {
        "id": "SonrO3ZlhAJ6"
      },
      "source": [
        "Now we define a funtion to get the new york city data such as Boroughs, Neighborhoods along with their latitude and longitude.\r\n"
      ]
    },
    {
      "cell_type": "code",
      "metadata": {
        "id": "2R7vHOoqg-fa"
      },
      "source": [
        "def get_new_york_data():\r\n",
        "    url='https://cocl.us/new_york_dataset'\r\n",
        "    resp=requests.get(url).json()\r\n",
        "    # all data is present in features label\r\n",
        "    features=resp['features']\r\n",
        "    \r\n",
        "    # define the dataframe columns\r\n",
        "    column_names = ['Borough', 'Neighborhood', 'Latitude', 'Longitude'] \r\n",
        "    # instantiate the dataframe\r\n",
        "    new_york_data = pd.DataFrame(columns=column_names)\r\n",
        "    \r\n",
        "    for data in features:\r\n",
        "        borough = data['properties']['borough'] \r\n",
        "        neighborhood_name = data['properties']['name']\r\n",
        "        \r\n",
        "        neighborhood_latlon = data['geometry']['coordinates']\r\n",
        "        neighborhood_lat = neighborhood_latlon[1]\r\n",
        "        neighborhood_lon = neighborhood_latlon[0]\r\n",
        "    \r\n",
        "        new_york_data = new_york_data.append({'Borough': borough,\r\n",
        "                                          'Neighborhood': neighborhood_name,\r\n",
        "                                          'Latitude': neighborhood_lat,\r\n",
        "                                          'Longitude': neighborhood_lon}, ignore_index=True)\r\n",
        "    \r\n",
        "    return new_york_data"
      ],
      "execution_count": null,
      "outputs": []
    },
    {
      "cell_type": "code",
      "metadata": {
        "colab": {
          "base_uri": "https://localhost:8080/",
          "height": 204
        },
        "id": "F4Rw9EP1hEkF",
        "outputId": "cc18e82c-217a-4ae3-e849-048ad31c939b"
      },
      "source": [
        "# get new york data\r\n",
        "new_york_data=get_new_york_data()\r\n",
        "new_york_data.head()"
      ],
      "execution_count": null,
      "outputs": [
        {
          "output_type": "execute_result",
          "data": {
            "text/html": [
              "<div>\n",
              "<style scoped>\n",
              "    .dataframe tbody tr th:only-of-type {\n",
              "        vertical-align: middle;\n",
              "    }\n",
              "\n",
              "    .dataframe tbody tr th {\n",
              "        vertical-align: top;\n",
              "    }\n",
              "\n",
              "    .dataframe thead th {\n",
              "        text-align: right;\n",
              "    }\n",
              "</style>\n",
              "<table border=\"1\" class=\"dataframe\">\n",
              "  <thead>\n",
              "    <tr style=\"text-align: right;\">\n",
              "      <th></th>\n",
              "      <th>Borough</th>\n",
              "      <th>Neighborhood</th>\n",
              "      <th>Latitude</th>\n",
              "      <th>Longitude</th>\n",
              "    </tr>\n",
              "  </thead>\n",
              "  <tbody>\n",
              "    <tr>\n",
              "      <th>0</th>\n",
              "      <td>Bronx</td>\n",
              "      <td>Wakefield</td>\n",
              "      <td>40.894705</td>\n",
              "      <td>-73.847201</td>\n",
              "    </tr>\n",
              "    <tr>\n",
              "      <th>1</th>\n",
              "      <td>Bronx</td>\n",
              "      <td>Co-op City</td>\n",
              "      <td>40.874294</td>\n",
              "      <td>-73.829939</td>\n",
              "    </tr>\n",
              "    <tr>\n",
              "      <th>2</th>\n",
              "      <td>Bronx</td>\n",
              "      <td>Eastchester</td>\n",
              "      <td>40.887556</td>\n",
              "      <td>-73.827806</td>\n",
              "    </tr>\n",
              "    <tr>\n",
              "      <th>3</th>\n",
              "      <td>Bronx</td>\n",
              "      <td>Fieldston</td>\n",
              "      <td>40.895437</td>\n",
              "      <td>-73.905643</td>\n",
              "    </tr>\n",
              "    <tr>\n",
              "      <th>4</th>\n",
              "      <td>Bronx</td>\n",
              "      <td>Riverdale</td>\n",
              "      <td>40.890834</td>\n",
              "      <td>-73.912585</td>\n",
              "    </tr>\n",
              "  </tbody>\n",
              "</table>\n",
              "</div>"
            ],
            "text/plain": [
              "  Borough Neighborhood   Latitude  Longitude\n",
              "0   Bronx    Wakefield  40.894705 -73.847201\n",
              "1   Bronx   Co-op City  40.874294 -73.829939\n",
              "2   Bronx  Eastchester  40.887556 -73.827806\n",
              "3   Bronx    Fieldston  40.895437 -73.905643\n",
              "4   Bronx    Riverdale  40.890834 -73.912585"
            ]
          },
          "metadata": {
            "tags": []
          },
          "execution_count": 8
        }
      ]
    },
    {
      "cell_type": "code",
      "metadata": {
        "colab": {
          "base_uri": "https://localhost:8080/"
        },
        "id": "mWYPhOCZhJru",
        "outputId": "2410e7be-db4a-45d2-b0cb-bd77dec7f7d2"
      },
      "source": [
        "new_york_data.shape"
      ],
      "execution_count": null,
      "outputs": [
        {
          "output_type": "execute_result",
          "data": {
            "text/plain": [
              "(306, 4)"
            ]
          },
          "metadata": {
            "tags": []
          },
          "execution_count": 9
        }
      ]
    },
    {
      "cell_type": "markdown",
      "metadata": {
        "id": "64sq7fWshQGI"
      },
      "source": [
        "So there are total of 306 different Neighborhoods in New York"
      ]
    },
    {
      "cell_type": "code",
      "metadata": {
        "colab": {
          "base_uri": "https://localhost:8080/",
          "height": 563
        },
        "id": "GNLVk6pehOQN",
        "outputId": "6e641cd6-d4f9-4a8f-adfe-5c8ef8d1beba"
      },
      "source": [
        "plt.figure(figsize=(9,5), dpi = 100)\r\n",
        "# title\r\n",
        "plt.title('Number of Neighborhood for each Borough in New York City')\r\n",
        "#On x-axis\r\n",
        "plt.xlabel('Borough', fontsize = 15)\r\n",
        "#On y-axis\r\n",
        "plt.ylabel('No.of Neighborhood', fontsize=15)\r\n",
        "#giving a bar plot\r\n",
        "new_york_data.groupby('Borough')['Neighborhood'].count().plot(kind='bar')\r\n",
        "#legend\r\n",
        "plt.legend()\r\n",
        "#displays the plot\r\n",
        "plt.show()"
      ],
      "execution_count": null,
      "outputs": [
        {
          "output_type": "display_data",
          "data": {
            "image/png": "[encoded data removed]",
            "text/plain": [
              "<Figure size 900x500 with 1 Axes>"
            ]
          },
          "metadata": {
            "tags": [],
            "needs_background": "light"
          }
        }
      ]
    },
    {
      "cell_type": "markdown",
      "metadata": {
        "id": "bKgpoRKzhU3Y"
      },
      "source": [
        "We see that Queens has highest number of neighborhoods"
      ]
    },
    {
      "cell_type": "markdown",
      "metadata": {
        "id": "miMLrRXAiPW9"
      },
      "source": [
        "We will collect French resturants for each Neighborhood"
      ]
    },
    {
      "cell_type": "code",
      "metadata": {
        "id": "0NVcKmKqiV1P",
        "colab": {
          "base_uri": "https://localhost:8080/"
        },
        "outputId": "a4f2b437-062f-4848-86d3-c9a3c0f07af5"
      },
      "source": [
        "# prepare neighborhood list that contains french resturants\r\n",
        "column_names=['Borough', 'Neighborhood', 'ID','Name']\r\n",
        "french_rest_ny=pd.DataFrame(columns=column_names)\r\n",
        "count=1\r\n",
        "for row in new_york_data.values.tolist():\r\n",
        "    Borough, Neighborhood, Latitude, Longitude=row\r\n",
        "    venues = get_venues(Latitude,Longitude)\r\n",
        "    french_resturants=venues[venues['Category']=='French Restaurant']   \r\n",
        "    print('(',count,'/',len(new_york_data),')','French Resturants in '+Neighborhood+', '+Borough+':'+str(len(french_resturants)))\r\n",
        "    for resturant_detail in french_resturants.values.tolist():\r\n",
        "        id, name , category=resturant_detail\r\n",
        "        french_rest_ny = french_rest_ny.append({'Borough': Borough,\r\n",
        "                                                'Neighborhood': Neighborhood, \r\n",
        "                                                'ID': id,\r\n",
        "                                                'Name' : name\r\n",
        "                                               }, ignore_index=True)\r\n",
        "    count+=1"
      ],
      "execution_count": null,
      "outputs": [
        {
          "output_type": "stream",
          "text": [
            "done\n",
            "( 1 / 306 ) French Resturants in Wakefield, Bronx:0\n",
            "done\n",
            "( 2 / 306 ) French Resturants in Co-op City, Bronx:0\n",
            "done\n",
            "( 3 / 306 ) French Resturants in Eastchester, Bronx:0\n",
            "done\n",
            "( 4 / 306 ) French Resturants in Fieldston, Bronx:0\n",
            "done\n",
            "( 5 / 306 ) French Resturants in Riverdale, Bronx:0\n",
            "done\n",
            "( 6 / 306 ) French Resturants in Kingsbridge, Bronx:0\n",
            "done\n",
            "( 7 / 306 ) French Resturants in Marble Hill, Manhattan:0\n",
            "done\n",
            "( 8 / 306 ) French Resturants in Woodlawn, Bronx:0\n",
            "done\n",
            "( 9 / 306 ) French Resturants in Norwood, Bronx:0\n",
            "done\n",
            "( 10 / 306 ) French Resturants in Williamsbridge, Bronx:0\n",
            "done\n",
            "( 11 / 306 ) French Resturants in Baychester, Bronx:0\n",
            "done\n",
            "( 12 / 306 ) French Resturants in Pelham Parkway, Bronx:0\n",
            "done\n",
            "( 13 / 306 ) French Resturants in City Island, Bronx:1\n",
            "done\n",
            "( 14 / 306 ) French Resturants in Bedford Park, Bronx:0\n",
            "done\n",
            "( 15 / 306 ) French Resturants in University Heights, Bronx:0\n",
            "done\n",
            "( 16 / 306 ) French Resturants in Morris Heights, Bronx:0\n",
            "done\n",
            "( 17 / 306 ) French Resturants in Fordham, Bronx:0\n",
            "done\n",
            "( 18 / 306 ) French Resturants in East Tremont, Bronx:0\n",
            "done\n",
            "( 19 / 306 ) French Resturants in West Farms, Bronx:0\n",
            "done\n",
            "( 20 / 306 ) French Resturants in High  Bridge, Bronx:0\n",
            "done\n",
            "( 21 / 306 ) French Resturants in Melrose, Bronx:0\n",
            "done\n",
            "( 22 / 306 ) French Resturants in Mott Haven, Bronx:0\n",
            "done\n",
            "( 23 / 306 ) French Resturants in Port Morris, Bronx:0\n",
            "done\n",
            "( 24 / 306 ) French Resturants in Longwood, Bronx:0\n",
            "done\n",
            "( 25 / 306 ) French Resturants in Hunts Point, Bronx:0\n",
            "done\n",
            "( 26 / 306 ) French Resturants in Morrisania, Bronx:0\n",
            "done\n",
            "( 27 / 306 ) French Resturants in Soundview, Bronx:0\n",
            "done\n",
            "( 28 / 306 ) French Resturants in Clason Point, Bronx:0\n",
            "done\n",
            "( 29 / 306 ) French Resturants in Throgs Neck, Bronx:0\n",
            "done\n",
            "( 30 / 306 ) French Resturants in Country Club, Bronx:0\n",
            "done\n",
            "( 31 / 306 ) French Resturants in Parkchester, Bronx:0\n",
            "done\n",
            "( 32 / 306 ) French Resturants in Westchester Square, Bronx:0\n",
            "done\n",
            "( 33 / 306 ) French Resturants in Van Nest, Bronx:0\n",
            "done\n",
            "( 34 / 306 ) French Resturants in Morris Park, Bronx:0\n",
            "done\n",
            "( 35 / 306 ) French Resturants in Belmont, Bronx:0\n",
            "done\n",
            "( 36 / 306 ) French Resturants in Spuyten Duyvil, Bronx:0\n",
            "done\n",
            "( 37 / 306 ) French Resturants in North Riverdale, Bronx:0\n",
            "done\n",
            "( 38 / 306 ) French Resturants in Pelham Bay, Bronx:0\n",
            "done\n",
            "( 39 / 306 ) French Resturants in Schuylerville, Bronx:0\n",
            "done\n",
            "( 40 / 306 ) French Resturants in Edgewater Park, Bronx:0\n",
            "done\n",
            "( 41 / 306 ) French Resturants in Castle Hill, Bronx:0\n",
            "done\n",
            "( 42 / 306 ) French Resturants in Olinville, Bronx:0\n",
            "done\n",
            "( 43 / 306 ) French Resturants in Pelham Gardens, Bronx:0\n",
            "done\n",
            "( 44 / 306 ) French Resturants in Concourse, Bronx:0\n",
            "done\n",
            "( 45 / 306 ) French Resturants in Unionport, Bronx:0\n",
            "done\n",
            "( 46 / 306 ) French Resturants in Edenwald, Bronx:0\n",
            "done\n",
            "( 47 / 306 ) French Resturants in Bay Ridge, Brooklyn:0\n",
            "done\n",
            "( 48 / 306 ) French Resturants in Bensonhurst, Brooklyn:0\n",
            "done\n",
            "( 49 / 306 ) French Resturants in Sunset Park, Brooklyn:0\n",
            "done\n",
            "( 50 / 306 ) French Resturants in Greenpoint, Brooklyn:3\n",
            "done\n",
            "( 51 / 306 ) French Resturants in Gravesend, Brooklyn:0\n",
            "done\n",
            "( 52 / 306 ) French Resturants in Brighton Beach, Brooklyn:0\n",
            "done\n",
            "( 53 / 306 ) French Resturants in Sheepshead Bay, Brooklyn:0\n",
            "done\n",
            "( 54 / 306 ) French Resturants in Manhattan Terrace, Brooklyn:0\n",
            "done\n",
            "( 55 / 306 ) French Resturants in Flatbush, Brooklyn:0\n",
            "done\n",
            "( 56 / 306 ) French Resturants in Crown Heights, Brooklyn:0\n",
            "done\n",
            "( 57 / 306 ) French Resturants in East Flatbush, Brooklyn:0\n",
            "done\n",
            "( 58 / 306 ) French Resturants in Kensington, Brooklyn:0\n",
            "done\n",
            "( 59 / 306 ) French Resturants in Windsor Terrace, Brooklyn:1\n",
            "done\n",
            "( 60 / 306 ) French Resturants in Prospect Heights, Brooklyn:0\n",
            "done\n",
            "( 61 / 306 ) French Resturants in Brownsville, Brooklyn:0\n",
            "done\n",
            "( 62 / 306 ) French Resturants in Williamsburg, Brooklyn:0\n",
            "done\n",
            "( 63 / 306 ) French Resturants in Bushwick, Brooklyn:1\n",
            "done\n",
            "( 64 / 306 ) French Resturants in Bedford Stuyvesant, Brooklyn:2\n",
            "done\n",
            "( 65 / 306 ) French Resturants in Brooklyn Heights, Brooklyn:1\n",
            "done\n",
            "( 66 / 306 ) French Resturants in Cobble Hill, Brooklyn:1\n",
            "done\n",
            "( 67 / 306 ) French Resturants in Carroll Gardens, Brooklyn:2\n",
            "done\n",
            "( 68 / 306 ) French Resturants in Red Hook, Brooklyn:0\n",
            "done\n",
            "( 69 / 306 ) French Resturants in Gowanus, Brooklyn:0\n",
            "done\n",
            "( 70 / 306 ) French Resturants in Fort Greene, Brooklyn:2\n",
            "done\n",
            "( 71 / 306 ) French Resturants in Park Slope, Brooklyn:0\n",
            "done\n",
            "( 72 / 306 ) French Resturants in Cypress Hills, Brooklyn:0\n",
            "done\n",
            "( 73 / 306 ) French Resturants in East New York, Brooklyn:0\n",
            "done\n",
            "( 74 / 306 ) French Resturants in Starrett City, Brooklyn:0\n",
            "done\n",
            "( 75 / 306 ) French Resturants in Canarsie, Brooklyn:0\n",
            "done\n",
            "( 76 / 306 ) French Resturants in Flatlands, Brooklyn:0\n",
            "done\n",
            "( 77 / 306 ) French Resturants in Mill Island, Brooklyn:0\n",
            "done\n",
            "( 78 / 306 ) French Resturants in Manhattan Beach, Brooklyn:0\n",
            "done\n",
            "( 79 / 306 ) French Resturants in Coney Island, Brooklyn:0\n",
            "done\n",
            "( 80 / 306 ) French Resturants in Bath Beach, Brooklyn:0\n",
            "done\n",
            "( 81 / 306 ) French Resturants in Borough Park, Brooklyn:0\n",
            "done\n",
            "( 82 / 306 ) French Resturants in Dyker Heights, Brooklyn:0\n",
            "done\n",
            "( 83 / 306 ) French Resturants in Gerritsen Beach, Brooklyn:0\n",
            "done\n",
            "( 84 / 306 ) French Resturants in Marine Park, Brooklyn:0\n",
            "done\n",
            "( 85 / 306 ) French Resturants in Clinton Hill, Brooklyn:2\n",
            "done\n",
            "( 86 / 306 ) French Resturants in Sea Gate, Brooklyn:0\n",
            "done\n",
            "( 87 / 306 ) French Resturants in Downtown, Brooklyn:3\n",
            "done\n",
            "( 88 / 306 ) French Resturants in Boerum Hill, Brooklyn:3\n",
            "done\n",
            "( 89 / 306 ) French Resturants in Prospect Lefferts Gardens, Brooklyn:0\n",
            "done\n",
            "( 90 / 306 ) French Resturants in Ocean Hill, Brooklyn:0\n",
            "done\n",
            "( 91 / 306 ) French Resturants in City Line, Brooklyn:0\n",
            "done\n",
            "( 92 / 306 ) French Resturants in Bergen Beach, Brooklyn:0\n",
            "done\n",
            "( 93 / 306 ) French Resturants in Midwood, Brooklyn:0\n",
            "done\n",
            "( 94 / 306 ) French Resturants in Prospect Park South, Brooklyn:0\n",
            "done\n",
            "( 95 / 306 ) French Resturants in Georgetown, Brooklyn:0\n",
            "done\n",
            "( 96 / 306 ) French Resturants in East Williamsburg, Brooklyn:0\n",
            "done\n",
            "( 97 / 306 ) French Resturants in North Side, Brooklyn:2\n",
            "done\n",
            "( 98 / 306 ) French Resturants in South Side, Brooklyn:1\n",
            "done\n",
            "( 99 / 306 ) French Resturants in Ocean Parkway, Brooklyn:0\n",
            "done\n",
            "( 100 / 306 ) French Resturants in Fort Hamilton, Brooklyn:0\n",
            "done\n",
            "( 101 / 306 ) French Resturants in Chinatown, Manhattan:1\n",
            "done\n",
            "( 102 / 306 ) French Resturants in Washington Heights, Manhattan:0\n",
            "done\n",
            "( 103 / 306 ) French Resturants in Inwood, Manhattan:0\n",
            "done\n",
            "( 104 / 306 ) French Resturants in Hamilton Heights, Manhattan:0\n",
            "done\n",
            "( 105 / 306 ) French Resturants in Manhattanville, Manhattan:1\n",
            "done\n",
            "( 106 / 306 ) French Resturants in Central Harlem, Manhattan:3\n",
            "done\n",
            "( 107 / 306 ) French Resturants in East Harlem, Manhattan:1\n",
            "done\n",
            "( 108 / 306 ) French Resturants in Upper East Side, Manhattan:2\n",
            "done\n",
            "( 109 / 306 ) French Resturants in Yorkville, Manhattan:1\n",
            "done\n",
            "( 110 / 306 ) French Resturants in Lenox Hill, Manhattan:2\n",
            "done\n",
            "( 111 / 306 ) French Resturants in Roosevelt Island, Manhattan:1\n",
            "done\n",
            "( 112 / 306 ) French Resturants in Upper West Side, Manhattan:0\n",
            "done\n",
            "( 113 / 306 ) French Resturants in Lincoln Square, Manhattan:4\n",
            "done\n",
            "( 114 / 306 ) French Resturants in Clinton, Manhattan:0\n",
            "done\n",
            "( 115 / 306 ) French Resturants in Midtown, Manhattan:1\n",
            "done\n",
            "( 116 / 306 ) French Resturants in Murray Hill, Manhattan:0\n",
            "done\n",
            "( 117 / 306 ) French Resturants in Chelsea, Manhattan:1\n",
            "done\n",
            "( 118 / 306 ) French Resturants in Greenwich Village, Manhattan:2\n",
            "done\n",
            "( 119 / 306 ) French Resturants in East Village, Manhattan:0\n",
            "done\n",
            "( 120 / 306 ) French Resturants in Lower East Side, Manhattan:2\n",
            "done\n",
            "( 121 / 306 ) French Resturants in Tribeca, Manhattan:3\n",
            "done\n",
            "( 122 / 306 ) French Resturants in Little Italy, Manhattan:1\n",
            "done\n",
            "( 123 / 306 ) French Resturants in Soho, Manhattan:2\n",
            "done\n",
            "( 124 / 306 ) French Resturants in West Village, Manhattan:2\n",
            "done\n",
            "( 125 / 306 ) French Resturants in Manhattan Valley, Manhattan:1\n",
            "done\n",
            "( 126 / 306 ) French Resturants in Morningside Heights, Manhattan:0\n",
            "done\n",
            "( 127 / 306 ) French Resturants in Gramercy, Manhattan:0\n",
            "done\n",
            "( 128 / 306 ) French Resturants in Battery Park City, Manhattan:1\n",
            "done\n",
            "( 129 / 306 ) French Resturants in Financial District, Manhattan:1\n",
            "done\n",
            "( 130 / 306 ) French Resturants in Astoria, Queens:0\n",
            "done\n",
            "( 131 / 306 ) French Resturants in Woodside, Queens:0\n",
            "done\n",
            "( 132 / 306 ) French Resturants in Jackson Heights, Queens:0\n",
            "done\n",
            "( 133 / 306 ) French Resturants in Elmhurst, Queens:0\n",
            "done\n",
            "( 134 / 306 ) French Resturants in Howard Beach, Queens:0\n",
            "done\n",
            "( 135 / 306 ) French Resturants in Corona, Queens:0\n",
            "done\n",
            "( 136 / 306 ) French Resturants in Forest Hills, Queens:0\n",
            "done\n",
            "( 137 / 306 ) French Resturants in Kew Gardens, Queens:0\n",
            "done\n",
            "( 138 / 306 ) French Resturants in Richmond Hill, Queens:0\n",
            "done\n",
            "( 139 / 306 ) French Resturants in Flushing, Queens:0\n",
            "done\n",
            "( 140 / 306 ) French Resturants in Long Island City, Queens:0\n",
            "done\n",
            "( 141 / 306 ) French Resturants in Sunnyside, Queens:0\n",
            "done\n",
            "( 142 / 306 ) French Resturants in East Elmhurst, Queens:0\n",
            "done\n",
            "( 143 / 306 ) French Resturants in Maspeth, Queens:0\n",
            "done\n",
            "( 144 / 306 ) French Resturants in Ridgewood, Queens:0\n",
            "done\n",
            "( 145 / 306 ) French Resturants in Glendale, Queens:0\n",
            "done\n",
            "( 146 / 306 ) French Resturants in Rego Park, Queens:0\n",
            "done\n",
            "( 147 / 306 ) French Resturants in Woodhaven, Queens:0\n",
            "done\n",
            "( 148 / 306 ) French Resturants in Ozone Park, Queens:0\n",
            "done\n",
            "( 149 / 306 ) French Resturants in South Ozone Park, Queens:0\n",
            "done\n",
            "( 150 / 306 ) French Resturants in College Point, Queens:0\n",
            "done\n",
            "( 151 / 306 ) French Resturants in Whitestone, Queens:0\n",
            "done\n",
            "( 152 / 306 ) French Resturants in Bayside, Queens:0\n",
            "done\n",
            "( 153 / 306 ) French Resturants in Auburndale, Queens:0\n",
            "done\n",
            "( 154 / 306 ) French Resturants in Little Neck, Queens:1\n",
            "done\n",
            "( 155 / 306 ) French Resturants in Douglaston, Queens:1\n",
            "done\n",
            "( 156 / 306 ) French Resturants in Glen Oaks, Queens:0\n",
            "done\n",
            "( 157 / 306 ) French Resturants in Bellerose, Queens:0\n",
            "done\n",
            "( 158 / 306 ) French Resturants in Kew Gardens Hills, Queens:0\n",
            "done\n",
            "( 159 / 306 ) French Resturants in Fresh Meadows, Queens:0\n",
            "done\n",
            "( 160 / 306 ) French Resturants in Briarwood, Queens:0\n",
            "done\n",
            "( 161 / 306 ) French Resturants in Jamaica Center, Queens:0\n",
            "done\n",
            "( 162 / 306 ) French Resturants in Oakland Gardens, Queens:0\n",
            "done\n",
            "( 163 / 306 ) French Resturants in Queens Village, Queens:0\n",
            "done\n",
            "( 164 / 306 ) French Resturants in Hollis, Queens:0\n",
            "done\n",
            "( 165 / 306 ) French Resturants in South Jamaica, Queens:0\n",
            "done\n",
            "( 166 / 306 ) French Resturants in St. Albans, Queens:0\n",
            "done\n",
            "( 167 / 306 ) French Resturants in Rochdale, Queens:0\n",
            "done\n",
            "( 168 / 306 ) French Resturants in Springfield Gardens, Queens:0\n",
            "done\n",
            "( 169 / 306 ) French Resturants in Cambria Heights, Queens:0\n",
            "done\n",
            "( 170 / 306 ) French Resturants in Rosedale, Queens:0\n",
            "done\n",
            "( 171 / 306 ) French Resturants in Far Rockaway, Queens:0\n",
            "done\n",
            "( 172 / 306 ) French Resturants in Broad Channel, Queens:0\n",
            "done\n",
            "( 173 / 306 ) French Resturants in Breezy Point, Queens:0\n",
            "done\n",
            "( 174 / 306 ) French Resturants in Steinway, Queens:0\n",
            "done\n",
            "( 175 / 306 ) French Resturants in Beechhurst, Queens:0\n",
            "done\n",
            "( 176 / 306 ) French Resturants in Bay Terrace, Queens:0\n",
            "done\n",
            "( 177 / 306 ) French Resturants in Edgemere, Queens:0\n",
            "done\n",
            "( 178 / 306 ) French Resturants in Arverne, Queens:0\n",
            "done\n",
            "( 179 / 306 ) French Resturants in Rockaway Beach, Queens:0\n",
            "done\n",
            "( 180 / 306 ) French Resturants in Neponsit, Queens:0\n",
            "done\n",
            "( 181 / 306 ) French Resturants in Murray Hill, Queens:0\n",
            "done\n",
            "( 182 / 306 ) French Resturants in Floral Park, Queens:0\n",
            "done\n",
            "( 183 / 306 ) French Resturants in Holliswood, Queens:0\n",
            "done\n",
            "( 184 / 306 ) French Resturants in Jamaica Estates, Queens:0\n",
            "done\n",
            "( 185 / 306 ) French Resturants in Queensboro Hill, Queens:0\n",
            "done\n",
            "( 186 / 306 ) French Resturants in Hillcrest, Queens:0\n",
            "done\n",
            "( 187 / 306 ) French Resturants in Ravenswood, Queens:1\n",
            "done\n",
            "( 188 / 306 ) French Resturants in Lindenwood, Queens:0\n",
            "done\n",
            "( 189 / 306 ) French Resturants in Laurelton, Queens:0\n",
            "done\n",
            "( 190 / 306 ) French Resturants in Lefrak City, Queens:0\n",
            "done\n",
            "( 191 / 306 ) French Resturants in Belle Harbor, Queens:0\n",
            "done\n",
            "( 192 / 306 ) French Resturants in Rockaway Park, Queens:1\n",
            "done\n",
            "( 193 / 306 ) French Resturants in Somerville, Queens:0\n",
            "done\n",
            "( 194 / 306 ) French Resturants in Brookville, Queens:0\n",
            "done\n",
            "( 195 / 306 ) French Resturants in Bellaire, Queens:0\n",
            "done\n",
            "( 196 / 306 ) French Resturants in North Corona, Queens:0\n",
            "done\n",
            "( 197 / 306 ) French Resturants in Forest Hills Gardens, Queens:0\n",
            "done\n",
            "( 198 / 306 ) French Resturants in St. George, Staten Island:0\n",
            "done\n",
            "( 199 / 306 ) French Resturants in New Brighton, Staten Island:0\n",
            "done\n",
            "( 200 / 306 ) French Resturants in Stapleton, Staten Island:0\n",
            "done\n",
            "( 201 / 306 ) French Resturants in Rosebank, Staten Island:0\n",
            "done\n",
            "( 202 / 306 ) French Resturants in West Brighton, Staten Island:0\n",
            "done\n",
            "( 203 / 306 ) French Resturants in Grymes Hill, Staten Island:0\n",
            "done\n",
            "( 204 / 306 ) French Resturants in Todt Hill, Staten Island:0\n",
            "done\n",
            "( 205 / 306 ) French Resturants in South Beach, Staten Island:0\n",
            "done\n",
            "( 206 / 306 ) French Resturants in Port Richmond, Staten Island:0\n",
            "done\n",
            "( 207 / 306 ) French Resturants in Mariner's Harbor, Staten Island:0\n",
            "done\n",
            "( 208 / 306 ) French Resturants in Port Ivory, Staten Island:0\n",
            "done\n",
            "( 209 / 306 ) French Resturants in Castleton Corners, Staten Island:0\n",
            "done\n",
            "( 210 / 306 ) French Resturants in New Springville, Staten Island:0\n",
            "done\n",
            "( 211 / 306 ) French Resturants in Travis, Staten Island:0\n",
            "done\n",
            "( 212 / 306 ) French Resturants in New Dorp, Staten Island:1\n",
            "done\n",
            "( 213 / 306 ) French Resturants in Oakwood, Staten Island:0\n",
            "done\n",
            "( 214 / 306 ) French Resturants in Great Kills, Staten Island:0\n",
            "done\n",
            "( 215 / 306 ) French Resturants in Eltingville, Staten Island:0\n",
            "done\n",
            "( 216 / 306 ) French Resturants in Annadale, Staten Island:0\n",
            "done\n",
            "( 217 / 306 ) French Resturants in Woodrow, Staten Island:0\n",
            "done\n",
            "( 218 / 306 ) French Resturants in Tottenville, Staten Island:0\n",
            "done\n",
            "( 219 / 306 ) French Resturants in Tompkinsville, Staten Island:0\n",
            "done\n",
            "( 220 / 306 ) French Resturants in Silver Lake, Staten Island:0\n",
            "done\n",
            "( 221 / 306 ) French Resturants in Sunnyside, Staten Island:0\n",
            "done\n",
            "( 222 / 306 ) French Resturants in Ditmas Park, Brooklyn:0\n",
            "done\n",
            "( 223 / 306 ) French Resturants in Wingate, Brooklyn:0\n",
            "done\n",
            "( 224 / 306 ) French Resturants in Rugby, Brooklyn:0\n",
            "done\n",
            "( 225 / 306 ) French Resturants in Park Hill, Staten Island:0\n",
            "done\n",
            "( 226 / 306 ) French Resturants in Westerleigh, Staten Island:0\n",
            "done\n",
            "( 227 / 306 ) French Resturants in Graniteville, Staten Island:0\n",
            "done\n",
            "( 228 / 306 ) French Resturants in Arlington, Staten Island:0\n",
            "done\n",
            "( 229 / 306 ) French Resturants in Arrochar, Staten Island:0\n",
            "done\n",
            "( 230 / 306 ) French Resturants in Grasmere, Staten Island:0\n",
            "done\n",
            "( 231 / 306 ) French Resturants in Old Town, Staten Island:0\n",
            "done\n",
            "( 232 / 306 ) French Resturants in Dongan Hills, Staten Island:0\n",
            "done\n",
            "( 233 / 306 ) French Resturants in Midland Beach, Staten Island:0\n",
            "done\n",
            "( 234 / 306 ) French Resturants in Grant City, Staten Island:1\n",
            "done\n",
            "( 235 / 306 ) French Resturants in New Dorp Beach, Staten Island:0\n",
            "done\n",
            "( 236 / 306 ) French Resturants in Bay Terrace, Staten Island:0\n",
            "done\n",
            "( 237 / 306 ) French Resturants in Huguenot, Staten Island:0\n",
            "done\n",
            "( 238 / 306 ) French Resturants in Pleasant Plains, Staten Island:0\n",
            "done\n",
            "( 239 / 306 ) French Resturants in Butler Manor, Staten Island:0\n",
            "done\n",
            "( 240 / 306 ) French Resturants in Charleston, Staten Island:0\n",
            "done\n",
            "( 241 / 306 ) French Resturants in Rossville, Staten Island:0\n",
            "done\n",
            "( 242 / 306 ) French Resturants in Arden Heights, Staten Island:0\n",
            "done\n",
            "( 243 / 306 ) French Resturants in Greenridge, Staten Island:0\n",
            "done\n",
            "( 244 / 306 ) French Resturants in Heartland Village, Staten Island:0\n",
            "done\n",
            "( 245 / 306 ) French Resturants in Chelsea, Staten Island:0\n",
            "done\n",
            "( 246 / 306 ) French Resturants in Bloomfield, Staten Island:0\n",
            "done\n",
            "( 247 / 306 ) French Resturants in Bulls Head, Staten Island:0\n",
            "done\n",
            "( 248 / 306 ) French Resturants in Carnegie Hill, Manhattan:3\n",
            "done\n",
            "( 249 / 306 ) French Resturants in Noho, Manhattan:2\n",
            "done\n",
            "( 250 / 306 ) French Resturants in Civic Center, Manhattan:4\n",
            "done\n",
            "( 251 / 306 ) French Resturants in Midtown South, Manhattan:0\n",
            "done\n",
            "( 252 / 306 ) French Resturants in Richmond Town, Staten Island:0\n",
            "done\n",
            "( 253 / 306 ) French Resturants in Shore Acres, Staten Island:0\n",
            "done\n",
            "( 254 / 306 ) French Resturants in Clifton, Staten Island:0\n",
            "done\n",
            "( 255 / 306 ) French Resturants in Concord, Staten Island:0\n",
            "done\n",
            "( 256 / 306 ) French Resturants in Emerson Hill, Staten Island:0\n",
            "done\n",
            "( 257 / 306 ) French Resturants in Randall Manor, Staten Island:0\n",
            "done\n",
            "( 258 / 306 ) French Resturants in Howland Hook, Staten Island:0\n",
            "done\n",
            "( 259 / 306 ) French Resturants in Elm Park, Staten Island:0\n",
            "done\n",
            "( 260 / 306 ) French Resturants in Remsen Village, Brooklyn:0\n",
            "done\n",
            "( 261 / 306 ) French Resturants in New Lots, Brooklyn:0\n",
            "done\n",
            "( 262 / 306 ) French Resturants in Paerdegat Basin, Brooklyn:0\n",
            "done\n",
            "( 263 / 306 ) French Resturants in Mill Basin, Brooklyn:0\n",
            "done\n",
            "( 264 / 306 ) French Resturants in Jamaica Hills, Queens:0\n",
            "done\n",
            "( 265 / 306 ) French Resturants in Utopia, Queens:0\n",
            "done\n",
            "( 266 / 306 ) French Resturants in Pomonok, Queens:0\n",
            "done\n",
            "( 267 / 306 ) French Resturants in Astoria Heights, Queens:0\n",
            "done\n",
            "( 268 / 306 ) French Resturants in Claremont Village, Bronx:0\n",
            "done\n",
            "( 269 / 306 ) French Resturants in Concourse Village, Bronx:0\n",
            "done\n",
            "( 270 / 306 ) French Resturants in Mount Eden, Bronx:0\n",
            "done\n",
            "( 271 / 306 ) French Resturants in Mount Hope, Bronx:0\n",
            "done\n",
            "( 272 / 306 ) French Resturants in Sutton Place, Manhattan:2\n",
            "done\n",
            "( 273 / 306 ) French Resturants in Hunters Point, Queens:1\n",
            "done\n",
            "( 274 / 306 ) French Resturants in Turtle Bay, Manhattan:2\n",
            "done\n",
            "( 275 / 306 ) French Resturants in Tudor City, Manhattan:0\n",
            "done\n",
            "( 276 / 306 ) French Resturants in Stuyvesant Town, Manhattan:0\n",
            "done\n",
            "( 277 / 306 ) French Resturants in Flatiron, Manhattan:0\n",
            "done\n",
            "( 278 / 306 ) French Resturants in Sunnyside Gardens, Queens:1\n",
            "done\n",
            "( 279 / 306 ) French Resturants in Blissville, Queens:0\n",
            "done\n",
            "( 280 / 306 ) French Resturants in Fulton Ferry, Brooklyn:0\n",
            "done\n",
            "( 281 / 306 ) French Resturants in Vinegar Hill, Brooklyn:0\n",
            "done\n",
            "( 282 / 306 ) French Resturants in Weeksville, Brooklyn:1\n",
            "done\n",
            "( 283 / 306 ) French Resturants in Broadway Junction, Brooklyn:0\n",
            "done\n",
            "( 284 / 306 ) French Resturants in Dumbo, Brooklyn:0\n",
            "done\n",
            "( 285 / 306 ) French Resturants in Manor Heights, Staten Island:0\n",
            "done\n",
            "( 286 / 306 ) French Resturants in Willowbrook, Staten Island:0\n",
            "done\n",
            "( 287 / 306 ) French Resturants in Sandy Ground, Staten Island:0\n",
            "done\n",
            "( 288 / 306 ) French Resturants in Egbertville, Staten Island:0\n",
            "done\n",
            "( 289 / 306 ) French Resturants in Roxbury, Queens:0\n",
            "done\n",
            "( 290 / 306 ) French Resturants in Homecrest, Brooklyn:0\n",
            "done\n",
            "( 291 / 306 ) French Resturants in Middle Village, Queens:0\n",
            "done\n",
            "( 292 / 306 ) French Resturants in Prince's Bay, Staten Island:0\n",
            "done\n",
            "( 293 / 306 ) French Resturants in Lighthouse Hill, Staten Island:0\n",
            "done\n",
            "( 294 / 306 ) French Resturants in Richmond Valley, Staten Island:0\n",
            "done\n",
            "( 295 / 306 ) French Resturants in Malba, Queens:0\n",
            "done\n",
            "( 296 / 306 ) French Resturants in Highland Park, Brooklyn:0\n",
            "done\n",
            "( 297 / 306 ) French Resturants in Madison, Brooklyn:0\n",
            "done\n",
            "( 298 / 306 ) French Resturants in Bronxdale, Bronx:0\n",
            "done\n",
            "( 299 / 306 ) French Resturants in Allerton, Bronx:0\n",
            "done\n",
            "( 300 / 306 ) French Resturants in Kingsbridge Heights, Bronx:0\n",
            "done\n",
            "( 301 / 306 ) French Resturants in Erasmus, Brooklyn:0\n",
            "done\n",
            "( 302 / 306 ) French Resturants in Hudson Yards, Manhattan:1\n",
            "done\n",
            "( 303 / 306 ) French Resturants in Hammels, Queens:0\n",
            "done\n",
            "( 304 / 306 ) French Resturants in Bayswater, Queens:0\n",
            "done\n",
            "( 305 / 306 ) French Resturants in Queensbridge, Queens:0\n",
            "done\n",
            "( 306 / 306 ) French Resturants in Fox Hills, Staten Island:0\n"
          ],
          "name": "stdout"
        }
      ]
    },
    {
      "cell_type": "code",
      "metadata": {
        "colab": {
          "base_uri": "https://localhost:8080/",
          "height": 204
        },
        "id": "OJIB3_n7ofiv",
        "outputId": "637aa686-a50f-4bad-db2f-a3d112af66d3"
      },
      "source": [
        "french_rest_ny.head()"
      ],
      "execution_count": null,
      "outputs": [
        {
          "output_type": "execute_result",
          "data": {
            "text/html": [
              "<div>\n",
              "<style scoped>\n",
              "    .dataframe tbody tr th:only-of-type {\n",
              "        vertical-align: middle;\n",
              "    }\n",
              "\n",
              "    .dataframe tbody tr th {\n",
              "        vertical-align: top;\n",
              "    }\n",
              "\n",
              "    .dataframe thead th {\n",
              "        text-align: right;\n",
              "    }\n",
              "</style>\n",
              "<table border=\"1\" class=\"dataframe\">\n",
              "  <thead>\n",
              "    <tr style=\"text-align: right;\">\n",
              "      <th></th>\n",
              "      <th>Borough</th>\n",
              "      <th>Neighborhood</th>\n",
              "      <th>ID</th>\n",
              "      <th>Name</th>\n",
              "    </tr>\n",
              "  </thead>\n",
              "  <tbody>\n",
              "    <tr>\n",
              "      <th>0</th>\n",
              "      <td>Bronx</td>\n",
              "      <td>City Island</td>\n",
              "      <td>4d7aa83ee540f04d66ba16dc</td>\n",
              "      <td>Bistro SK</td>\n",
              "    </tr>\n",
              "    <tr>\n",
              "      <th>1</th>\n",
              "      <td>Brooklyn</td>\n",
              "      <td>Greenpoint</td>\n",
              "      <td>5bf358689fca56002c251a87</td>\n",
              "      <td>Citroën</td>\n",
              "    </tr>\n",
              "    <tr>\n",
              "      <th>2</th>\n",
              "      <td>Brooklyn</td>\n",
              "      <td>Greenpoint</td>\n",
              "      <td>58fd34584382ab70ad90083e</td>\n",
              "      <td>Chez Ma Tante</td>\n",
              "    </tr>\n",
              "    <tr>\n",
              "      <th>3</th>\n",
              "      <td>Brooklyn</td>\n",
              "      <td>Greenpoint</td>\n",
              "      <td>4bcf1883c564ef3ba33beff0</td>\n",
              "      <td>Le Gamin</td>\n",
              "    </tr>\n",
              "    <tr>\n",
              "      <th>4</th>\n",
              "      <td>Brooklyn</td>\n",
              "      <td>Windsor Terrace</td>\n",
              "      <td>4e7d174cb6340a4da75a2cca</td>\n",
              "      <td>Le Paddock</td>\n",
              "    </tr>\n",
              "  </tbody>\n",
              "</table>\n",
              "</div>"
            ],
            "text/plain": [
              "    Borough     Neighborhood                        ID           Name\n",
              "0     Bronx      City Island  4d7aa83ee540f04d66ba16dc      Bistro SK\n",
              "1  Brooklyn       Greenpoint  5bf358689fca56002c251a87        Citroën\n",
              "2  Brooklyn       Greenpoint  58fd34584382ab70ad90083e  Chez Ma Tante\n",
              "3  Brooklyn       Greenpoint  4bcf1883c564ef3ba33beff0       Le Gamin\n",
              "4  Brooklyn  Windsor Terrace  4e7d174cb6340a4da75a2cca     Le Paddock"
            ]
          },
          "metadata": {
            "tags": []
          },
          "execution_count": 12
        }
      ]
    },
    {
      "cell_type": "code",
      "metadata": {
        "colab": {
          "base_uri": "https://localhost:8080/"
        },
        "id": "oQ3UChzfoj8R",
        "outputId": "02d6240f-9f0a-4216-f5ed-204bf6ba38f6"
      },
      "source": [
        "french_rest_ny.shape"
      ],
      "execution_count": null,
      "outputs": [
        {
          "output_type": "execute_result",
          "data": {
            "text/plain": [
              "(81, 4)"
            ]
          },
          "metadata": {
            "tags": []
          },
          "execution_count": 13
        }
      ]
    },
    {
      "cell_type": "markdown",
      "metadata": {
        "id": "G4TeL2xEoo-5"
      },
      "source": [
        "We got **81 French Resturants** across New York City"
      ]
    },
    {
      "cell_type": "code",
      "metadata": {
        "id": "-yA84gui2zYt",
        "colab": {
          "base_uri": "https://localhost:8080/",
          "height": 563
        },
        "outputId": "1d0a63ea-9db0-4197-e85b-928127f02184"
      },
      "source": [
        "plt.figure(figsize=(9,5), dpi = 100)\r\n",
        "# title\r\n",
        "plt.title('Number of French Resturants for each Borough in New York City')\r\n",
        "#On x-axis\r\n",
        "plt.xlabel('Borough', fontsize = 15)\r\n",
        "#On y-axis\r\n",
        "plt.ylabel('No.of French Resturants', fontsize=15)\r\n",
        "#giving a bar plot\r\n",
        "french_rest_ny.groupby('Borough')['ID'].count().plot(kind='bar')\r\n",
        "#legend\r\n",
        "plt.legend()\r\n",
        "#displays the plot\r\n",
        "plt.show()"
      ],
      "execution_count": null,
      "outputs": [
        {
          "output_type": "display_data",
          "data": {
            "image/png": "[encoded data removed]",
            "text/plain": [
              "<Figure size 900x500 with 1 Axes>"
            ]
          },
          "metadata": {
            "tags": [],
            "needs_background": "light"
          }
        }
      ]
    },
    {
      "cell_type": "markdown",
      "metadata": {
        "id": "XYW84rS826xO"
      },
      "source": [
        "We see that Manhattan has the largest number of french resturants"
      ]
    },
    {
      "cell_type": "code",
      "metadata": {
        "id": "pAKdkLiL3BF7",
        "colab": {
          "base_uri": "https://localhost:8080/",
          "height": 577
        },
        "outputId": "8d33c7ca-67e6-461f-857c-015510cc7b39"
      },
      "source": [
        "plt.figure(figsize=(9,5), dpi = 100)\r\n",
        "# title\r\n",
        "plt.title('Number of French Resturants for each Neighborhood in New York City')\r\n",
        "#On x-axis\r\n",
        "plt.xlabel('Neighborhood', fontsize = 15)\r\n",
        "#On y-axis\r\n",
        "plt.ylabel('No.of French Resturants', fontsize=15)\r\n",
        "#giving a bar plot\r\n",
        "french_rest_ny.groupby('Neighborhood')['ID'].count().nlargest(5).plot(kind='bar')\r\n",
        "#legend\r\n",
        "plt.legend()\r\n",
        "#displays the plot\r\n",
        "plt.show()"
      ],
      "execution_count": null,
      "outputs": [
        {
          "output_type": "display_data",
          "data": {
            "image/png": "[encoded data removed]",
            "text/plain": [
              "<Figure size 900x500 with 1 Axes>"
            ]
          },
          "metadata": {
            "tags": [],
            "needs_background": "light"
          }
        }
      ]
    },
    {
      "cell_type": "code",
      "metadata": {
        "id": "BnFx73Rs3H5U",
        "colab": {
          "base_uri": "https://localhost:8080/",
          "height": 173
        },
        "outputId": "c4904d0d-8093-407e-d4f0-11b31e4cfd19"
      },
      "source": [
        "french_rest_ny[french_rest_ny['Neighborhood']=='Civic Center']"
      ],
      "execution_count": null,
      "outputs": [
        {
          "output_type": "execute_result",
          "data": {
            "text/html": [
              "<div>\n",
              "<style scoped>\n",
              "    .dataframe tbody tr th:only-of-type {\n",
              "        vertical-align: middle;\n",
              "    }\n",
              "\n",
              "    .dataframe tbody tr th {\n",
              "        vertical-align: top;\n",
              "    }\n",
              "\n",
              "    .dataframe thead th {\n",
              "        text-align: right;\n",
              "    }\n",
              "</style>\n",
              "<table border=\"1\" class=\"dataframe\">\n",
              "  <thead>\n",
              "    <tr style=\"text-align: right;\">\n",
              "      <th></th>\n",
              "      <th>Borough</th>\n",
              "      <th>Neighborhood</th>\n",
              "      <th>ID</th>\n",
              "      <th>Name</th>\n",
              "    </tr>\n",
              "  </thead>\n",
              "  <tbody>\n",
              "    <tr>\n",
              "      <th>37</th>\n",
              "      <td>Manhattan</td>\n",
              "      <td>Lincoln Square</td>\n",
              "      <td>414ccc00f964a520d21c1fe3</td>\n",
              "      <td>Cafe Luxembourg</td>\n",
              "    </tr>\n",
              "    <tr>\n",
              "      <th>38</th>\n",
              "      <td>Manhattan</td>\n",
              "      <td>Lincoln Square</td>\n",
              "      <td>478cd1f3f964a520444d1fe3</td>\n",
              "      <td>Bar Boulud</td>\n",
              "    </tr>\n",
              "    <tr>\n",
              "      <th>39</th>\n",
              "      <td>Manhattan</td>\n",
              "      <td>Lincoln Square</td>\n",
              "      <td>3fd66200f964a520bee91ee3</td>\n",
              "      <td>Jean-Georges</td>\n",
              "    </tr>\n",
              "    <tr>\n",
              "      <th>40</th>\n",
              "      <td>Manhattan</td>\n",
              "      <td>Lincoln Square</td>\n",
              "      <td>49e7897ff964a520b6641fe3</td>\n",
              "      <td>Nougatine at Jean Georges</td>\n",
              "    </tr>\n",
              "  </tbody>\n",
              "</table>\n",
              "</div>"
            ],
            "text/plain": [
              "      Borough    Neighborhood                        ID  \\\n",
              "37  Manhattan  Lincoln Square  414ccc00f964a520d21c1fe3   \n",
              "38  Manhattan  Lincoln Square  478cd1f3f964a520444d1fe3   \n",
              "39  Manhattan  Lincoln Square  3fd66200f964a520bee91ee3   \n",
              "40  Manhattan  Lincoln Square  49e7897ff964a520b6641fe3   \n",
              "\n",
              "                         Name  \n",
              "37            Cafe Luxembourg  \n",
              "38                 Bar Boulud  \n",
              "39               Jean-Georges  \n",
              "40  Nougatine at Jean Georges  "
            ]
          },
          "metadata": {
            "tags": []
          },
          "execution_count": 18
        }
      ]
    },
    {
      "cell_type": "markdown",
      "metadata": {
        "id": "MXuK76A53NYs"
      },
      "source": [
        "\r\n",
        "\r\n",
        "So Civic Center (Manhattan) and Lincoln Square (Manhattan) have the highest number of French Resturants with a total count of 4 each neighborhood.\r\n",
        "\r\n",
        "Now we will get the ranking of each resturant for further analysis.\r\n"
      ]
    },
    {
      "cell_type": "code",
      "metadata": {
        "id": "tITBq_cS3VDD",
        "colab": {
          "base_uri": "https://localhost:8080/"
        },
        "outputId": "acd0137b-5c37-4f7c-bd6b-71235f57097f"
      },
      "source": [
        "# prepare neighborhood list that contains French resturants\r\n",
        "column_names=['Borough', 'Neighborhood', 'ID','Name','Likes','Rating','Tips']\r\n",
        "french_rest_stats_ny=pd.DataFrame(columns=column_names)\r\n",
        "count=1\r\n",
        "\r\n",
        "\r\n",
        "for row in french_rest_ny.values.tolist():\r\n",
        "    Borough,Neighborhood,ID,Name=row\r\n",
        "    try:\r\n",
        "        venue_details=get_venue_details(ID)\r\n",
        "        print(venue_details)\r\n",
        "        id,name,likes,rating,tips=venue_details.values.tolist()[0]\r\n",
        "    except IndexError:\r\n",
        "        print('No data available for id=',ID)\r\n",
        "        # we will assign 0 value for these resturants as they may have been \r\n",
        "        #recently opened or details does not exist in FourSquare Database\r\n",
        "        id,name,likes,rating,tips=[0]*5\r\n",
        "    print('(',count,'/',len(french_rest_ny),')','processed')\r\n",
        "    french_rest_stats_ny =french_rest_stats_ny.append({'Borough': Borough,\r\n",
        "                                                'Neighborhood': Neighborhood, \r\n",
        "                                                'ID': id,\r\n",
        "                                                'Name' : name,\r\n",
        "                                                'Likes' : likes,\r\n",
        "                                                'Rating' : rating,\r\n",
        "                                                'Tips' : tips\r\n",
        "                                               }, ignore_index=True)\r\n",
        "    count+=1"
      ],
      "execution_count": null,
      "outputs": [
        {
          "output_type": "stream",
          "text": [
            "                         ID       Name  Likes  Rating  Tips\n",
            "0  4d7aa83ee540f04d66ba16dc  Bistro SK     12     7.5     7\n",
            "( 1 / 81 ) processed\n",
            "                         ID     Name  Likes  Rating  Tips\n",
            "0  5bf358689fca56002c251a87  Citroën     23     8.5     3\n",
            "( 2 / 81 ) processed\n",
            "                         ID           Name  Likes  Rating  Tips\n",
            "0  58fd34584382ab70ad90083e  Chez Ma Tante    219     8.9    60\n",
            "( 3 / 81 ) processed\n",
            "                         ID      Name  Likes  Rating  Tips\n",
            "0  4bcf1883c564ef3ba33beff0  Le Gamin    159     7.9    73\n",
            "( 4 / 81 ) processed\n",
            "                         ID        Name  Likes  Rating  Tips\n",
            "0  4e7d174cb6340a4da75a2cca  Le Paddock    138     8.8    56\n",
            "( 5 / 81 ) processed\n",
            "                         ID       Name  Likes  Rating  Tips\n",
            "0  50b99e4ae4b0c22ba9633dfd  Mominette    339     8.0    81\n",
            "( 6 / 81 ) processed\n",
            "                         ID            Name  Likes  Rating  Tips\n",
            "0  5003007de4b06d50188aa593  Le Paris Dakar    149     8.5    42\n",
            "( 7 / 81 ) processed\n",
            "                         ID           Name  Likes  Rating  Tips\n",
            "0  5b5cb5468ad62e002cdc39d5  Madame Poupon      6     7.7     5\n",
            "( 8 / 81 ) processed\n",
            "                         ID      Name  Likes  Rating  Tips\n",
            "0  4f7f8b86e4b088077df30175  Chez Moi    203     8.4    75\n",
            "( 9 / 81 ) processed\n",
            "                         ID      Name  Likes  Rating  Tips\n",
            "0  4f7f8b86e4b088077df30175  Chez Moi    203     8.4    75\n",
            "( 10 / 81 ) processed\n",
            "                         ID      Name  Likes  Rating  Tips\n",
            "0  5df42352f93ca9000762ff64  Bar Bête     22     8.2     4\n",
            "( 11 / 81 ) processed\n",
            "                         ID          Name  Likes  Rating  Tips\n",
            "0  4e2ca88afa76bbf847e6886c  Jolie Bistro    213     8.1    79\n",
            "( 12 / 81 ) processed\n",
            "                         ID           Name  Likes  Rating  Tips\n",
            "0  5250553911d262bb0c732ee8  Cafe Paulette    215     8.5    53\n",
            "( 13 / 81 ) processed\n",
            "                         ID        Name  Likes  Rating  Tips\n",
            "0  422b9980f964a520d21f1fe3  Maison May    110     8.1    52\n",
            "( 14 / 81 ) processed\n",
            "                         ID        Name  Likes  Rating  Tips\n",
            "0  422b9980f964a520d21f1fe3  Maison May    110     8.1    52\n",
            "( 15 / 81 ) processed\n",
            "                         ID           Name  Likes  Rating  Tips\n",
            "0  5250553911d262bb0c732ee8  Cafe Paulette    215     8.5    53\n",
            "( 16 / 81 ) processed\n",
            "                         ID          Name  Likes  Rating  Tips\n",
            "0  530931a5498e4079544a5f13  French Louie    574     8.9   115\n",
            "( 17 / 81 ) processed\n",
            "                         ID                   Name  Likes  Rating  Tips\n",
            "0  4d20bc3af7a9a143bcab2f9f  The Little Sweet Café     68     8.1    32\n",
            "( 18 / 81 ) processed\n",
            "                         ID           Name  Likes  Rating  Tips\n",
            "0  5250553911d262bb0c732ee8  Cafe Paulette    215     8.5    53\n",
            "( 19 / 81 ) processed\n",
            "                         ID          Name  Likes  Rating  Tips\n",
            "0  530931a5498e4079544a5f13  French Louie    574     8.9   115\n",
            "( 20 / 81 ) processed\n",
            "                         ID                   Name  Likes  Rating  Tips\n",
            "0  4d20bc3af7a9a143bcab2f9f  The Little Sweet Café     68     8.1    32\n",
            "( 21 / 81 ) processed\n",
            "                         ID       Name  Likes  Rating  Tips\n",
            "0  3fd66200f964a52058f11ee3  Bar Tabac    450     8.3   211\n",
            "( 22 / 81 ) processed\n",
            "                         ID      Name  Likes  Rating  Tips\n",
            "0  4554c3b0f964a520113d1fe3  Juliette    781     8.3   274\n",
            "( 23 / 81 ) processed\n",
            "                         ID                 Name  Likes  Rating  Tips\n",
            "0  49f38062f964a520ae6a1fe3  Pates Et Traditions    358     9.0   138\n",
            "( 24 / 81 ) processed\n",
            "                         ID                 Name  Likes  Rating  Tips\n",
            "0  49f38062f964a520ae6a1fe3  Pates Et Traditions    358     9.0   138\n",
            "( 25 / 81 ) processed\n",
            "                         ID                   Name  Likes  Rating  Tips\n",
            "0  558ddcbe498e892dbe0d3a8b  Les Enfants de Bohème     90     8.6    19\n",
            "( 26 / 81 ) processed\n",
            "                         ID           Name  Likes  Rating  Tips\n",
            "0  511a937ee88968b8acbba54b  Maison Harlem    291     8.5    88\n",
            "( 27 / 81 ) processed\n",
            "                         ID     Name  Likes  Rating  Tips\n",
            "0  4b80389ff964a520e95d30e3  Yatenga    104     8.5    62\n",
            "( 28 / 81 ) processed\n",
            "                         ID                Name  Likes  Rating  Tips\n",
            "0  59cc6158c0af57432b9fd02b  Renaissance Harlem     14     8.1     2\n",
            "( 29 / 81 ) processed\n",
            "                         ID           Name  Likes  Rating  Tips\n",
            "0  511a937ee88968b8acbba54b  Maison Harlem    291     8.5    88\n",
            "( 30 / 81 ) processed\n",
            "                         ID           Name  Likes  Rating  Tips\n",
            "0  553c1b00498e7eb81316bf1b  Mountain Bird     80     9.1    18\n",
            "( 31 / 81 ) processed\n",
            "                         ID         Name  Likes  Rating  Tips\n",
            "0  3fd66200f964a5207fe91ee3  Café Boulud    259     8.9    93\n",
            "( 32 / 81 ) processed\n",
            "                         ID   Name  Likes  Rating  Tips\n",
            "0  4408540af964a52055301fe3  Orsay    151     8.4    45\n",
            "( 33 / 81 ) processed\n",
            "                         ID           Name  Likes  Rating  Tips\n",
            "0  467ffefcf964a52019481fe3  Cafe D'Alsace    525     8.8   172\n",
            "( 34 / 81 ) processed\n",
            "                         ID   Name  Likes  Rating  Tips\n",
            "0  4408540af964a52055301fe3  Orsay    151     8.4    45\n",
            "( 35 / 81 ) processed\n",
            "                         ID              Name  Likes  Rating  Tips\n",
            "0  4d8e49c36174a0935ff2c4e3  Le Moulin A Cafe    157     8.6    63\n",
            "( 36 / 81 ) processed\n",
            "                         ID              Name  Likes  Rating  Tips\n",
            "0  4d8e49c36174a0935ff2c4e3  Le Moulin A Cafe    157     8.6    63\n",
            "( 37 / 81 ) processed\n",
            "                         ID             Name  Likes  Rating  Tips\n",
            "0  414ccc00f964a520d21c1fe3  Cafe Luxembourg    301     8.6   100\n",
            "( 38 / 81 ) processed\n",
            "                         ID        Name  Likes  Rating  Tips\n",
            "0  478cd1f3f964a520444d1fe3  Bar Boulud    381     8.0   183\n",
            "( 39 / 81 ) processed\n",
            "                         ID          Name  Likes  Rating  Tips\n",
            "0  3fd66200f964a520bee91ee3  Jean-Georges    552     8.9   284\n",
            "( 40 / 81 ) processed\n",
            "                         ID                       Name  Likes  Rating  Tips\n",
            "0  49e7897ff964a520b6641fe3  Nougatine at Jean Georges    277     8.9   102\n",
            "( 41 / 81 ) processed\n",
            "                         ID              Name  Likes  Rating  Tips\n",
            "0  5552087d498eb30c149f785a  Gabriel Kreuther    154     8.9    75\n",
            "( 42 / 81 ) processed\n",
            "                         ID    Name  Likes  Rating  Tips\n",
            "0  5ce5b1f1f5e9d7002c4ad547  Pastis    130     9.0    20\n",
            "( 43 / 81 ) processed\n",
            "                         ID                Name  Likes  Rating  Tips\n",
            "0  3fd66200f964a52006e61ee3  Raoul's Restaurant    390     9.1   155\n",
            "( 44 / 81 ) processed\n",
            "                         ID     Name  Likes  Rating  Tips\n",
            "0  50899082e4b0645d657eb40f  Cocotte    232     8.8    70\n",
            "( 45 / 81 ) processed\n",
            "                         ID      Name  Likes  Rating  Tips\n",
            "0  5b63aefffe63bd0039d0c297  Windmill     16     8.9     2\n",
            "( 46 / 81 ) processed\n",
            "                         ID     Name  Likes  Rating  Tips\n",
            "0  556b8dc2498eb674c015c301  Wildair    266     8.7    74\n",
            "( 47 / 81 ) processed\n",
            "                         ID        Name  Likes  Rating  Tips\n",
            "0  5abc33ccad17896edaca3d61  Frenchette    186     8.6    35\n",
            "( 48 / 81 ) processed\n",
            "                         ID   Name  Likes  Rating  Tips\n",
            "0  566c9c87498ef09a2940e605  Maman    296     8.6    73\n",
            "( 49 / 81 ) processed\n",
            "                         ID       Name  Likes  Rating  Tips\n",
            "0  3fd66200f964a52083e61ee3  The Odeon    722     8.7   210\n",
            "( 50 / 81 ) processed\n",
            "                         ID       Name  Likes  Rating  Tips\n",
            "0  3fd66200f964a52070e91ee3  Balthazar   3040     8.7  1050\n",
            "( 51 / 81 ) processed\n",
            "                         ID     Name  Likes  Rating  Tips\n",
            "0  50899082e4b0645d657eb40f  Cocotte    232     8.8    70\n",
            "( 52 / 81 ) processed\n",
            "                         ID                Name  Likes  Rating  Tips\n",
            "0  3fd66200f964a52006e61ee3  Raoul's Restaurant    390     9.1   155\n",
            "( 53 / 81 ) processed\n",
            "                         ID     Name  Likes  Rating  Tips\n",
            "0  4d0bf7e3f29c236ac675bfe7  Buvette   1857     9.3   526\n",
            "( 54 / 81 ) processed\n",
            "                         ID    Name  Likes  Rating  Tips\n",
            "0  5ce5b1f1f5e9d7002c4ad547  Pastis    130     9.0    20\n",
            "( 55 / 81 ) processed\n",
            "                         ID            Name  Likes  Rating  Tips\n",
            "0  44e86a78f964a5209c371fe3  Cafe du Soleil     88     7.6    58\n",
            "( 56 / 81 ) processed\n",
            "                         ID           Name  Likes  Rating  Tips\n",
            "0  5a47a5e4e679bc7b226989ca  La Parisienne     59     8.6    14\n",
            "( 57 / 81 ) processed\n",
            "                         ID           Name  Likes  Rating  Tips\n",
            "0  5a47a5e4e679bc7b226989ca  La Parisienne     59     8.6    14\n",
            "( 58 / 81 ) processed\n",
            "                         ID                  Name  Likes  Rating  Tips\n",
            "0  4b428a19f964a52002d625e3  La Baraka Restaurant     16     7.4    14\n",
            "( 59 / 81 ) processed\n",
            "                         ID                  Name  Likes  Rating  Tips\n",
            "0  4b428a19f964a52002d625e3  La Baraka Restaurant     16     7.4    14\n",
            "( 60 / 81 ) processed\n",
            "                         ID           Name  Likes  Rating  Tips\n",
            "0  467fc553f964a52016481fe3  Café Triskell     79     8.3    44\n",
            "( 61 / 81 ) processed\n",
            "                         ID                  Name  Likes  Rating  Tips\n",
            "0  4f71ce9de4b0a89fa4b084de  Cuisine By Claudette     24     8.6     9\n",
            "( 62 / 81 ) processed\n",
            "                         ID                        Name  Likes  Rating  Tips\n",
            "0  4da08c63bb206ea8da50defd  French Tart (Chez Laurent)      6     7.1     3\n",
            "( 63 / 81 ) processed\n",
            "                         ID                        Name  Likes  Rating  Tips\n",
            "0  4da08c63bb206ea8da50defd  French Tart (Chez Laurent)      6     7.1     3\n",
            "( 64 / 81 ) processed\n",
            "                         ID          Name  Likes  Rating  Tips\n",
            "0  4b9d2218f964a5207e9236e3  Table d'Hote     45     8.5    20\n",
            "( 65 / 81 ) processed\n",
            "                         ID           Name  Likes  Rating  Tips\n",
            "0  467ffefcf964a52019481fe3  Cafe D'Alsace    525     8.8   172\n",
            "( 66 / 81 ) processed\n",
            "                         ID      Name  Likes  Rating  Tips\n",
            "0  4b5a36b9f964a520b0b428e3  Pascalou     28     7.7    19\n",
            "( 67 / 81 ) processed\n",
            "                         ID    Name  Likes  Rating  Tips\n",
            "0  3fd66200f964a5202de51ee3  Lucien    213     8.9    77\n",
            "( 68 / 81 ) processed\n",
            "                         ID      Name  Likes  Rating  Tips\n",
            "0  5b63aefffe63bd0039d0c297  Windmill     16     8.9     2\n",
            "( 69 / 81 ) processed\n",
            "                         ID     Name  Likes  Rating  Tips\n",
            "0  534c9d7b498e1bdd443a40e1  Racines    120     8.6    37\n",
            "( 70 / 81 ) processed\n",
            "                         ID       Name  Likes  Rating  Tips\n",
            "0  3fd66200f964a52083e61ee3  The Odeon    722     8.7   210\n",
            "( 71 / 81 ) processed\n",
            "                         ID   Name  Likes  Rating  Tips\n",
            "0  566c9c87498ef09a2940e605  Maman    296     8.6    73\n",
            "( 72 / 81 ) processed\n",
            "                         ID        Name  Likes  Rating  Tips\n",
            "0  5abc33ccad17896edaca3d61  Frenchette    186     8.6    35\n",
            "( 73 / 81 ) processed\n",
            "                         ID               Name  Likes  Rating  Tips\n",
            "0  594165b72f97ec4d2e3b1354  Le Petit Parisien     15     8.6     5\n",
            "( 74 / 81 ) processed\n",
            "                         ID          Name  Likes  Rating  Tips\n",
            "0  522b6da511d2a6f8f7a6798f  Le Bilboquet    148     8.8    35\n",
            "( 75 / 81 ) processed\n",
            "                         ID       Name  Likes  Rating  Tips\n",
            "0  4a216706f964a520e27c1fe3  Tournesol    116     8.7    70\n",
            "( 76 / 81 ) processed\n",
            "                         ID               Name  Likes  Rating  Tips\n",
            "0  594165b72f97ec4d2e3b1354  Le Petit Parisien     15     8.6     5\n",
            "( 77 / 81 ) processed\n",
            "                         ID     Name  Likes  Rating  Tips\n",
            "0  5143a58229a6639d6cfd525c  Jubilee     48     8.1    19\n",
            "( 78 / 81 ) processed\n",
            "                         ID         Name  Likes  Rating  Tips\n",
            "0  57f57d5dcd1047e759ea8838  Côté Soleil     22     7.6     9\n",
            "( 79 / 81 ) processed\n",
            "                         ID        Name  Likes  Rating  Tips\n",
            "0  439591fcf964a5208c2b1fe3  Chez Oskar    200     8.5    96\n",
            "( 80 / 81 ) processed\n",
            "                         ID            Name  Likes  Rating  Tips\n",
            "0  3fd66200f964a5208de91ee3  Chez Josephine    111     8.2    54\n",
            "( 81 / 81 ) processed\n"
          ],
          "name": "stdout"
        }
      ]
    },
    {
      "cell_type": "code",
      "metadata": {
        "id": "v_hgTtTD3i_i",
        "colab": {
          "base_uri": "https://localhost:8080/",
          "height": 204
        },
        "outputId": "148c9a10-c21b-4a28-a4f7-a8481f5da11d"
      },
      "source": [
        "french_rest_stats_ny.head()"
      ],
      "execution_count": null,
      "outputs": [
        {
          "output_type": "execute_result",
          "data": {
            "text/html": [
              "<div>\n",
              "<style scoped>\n",
              "    .dataframe tbody tr th:only-of-type {\n",
              "        vertical-align: middle;\n",
              "    }\n",
              "\n",
              "    .dataframe tbody tr th {\n",
              "        vertical-align: top;\n",
              "    }\n",
              "\n",
              "    .dataframe thead th {\n",
              "        text-align: right;\n",
              "    }\n",
              "</style>\n",
              "<table border=\"1\" class=\"dataframe\">\n",
              "  <thead>\n",
              "    <tr style=\"text-align: right;\">\n",
              "      <th></th>\n",
              "      <th>Borough</th>\n",
              "      <th>Neighborhood</th>\n",
              "      <th>ID</th>\n",
              "      <th>Name</th>\n",
              "      <th>Likes</th>\n",
              "      <th>Rating</th>\n",
              "      <th>Tips</th>\n",
              "    </tr>\n",
              "  </thead>\n",
              "  <tbody>\n",
              "    <tr>\n",
              "      <th>0</th>\n",
              "      <td>Bronx</td>\n",
              "      <td>City Island</td>\n",
              "      <td>4d7aa83ee540f04d66ba16dc</td>\n",
              "      <td>Bistro SK</td>\n",
              "      <td>12</td>\n",
              "      <td>7.5</td>\n",
              "      <td>7</td>\n",
              "    </tr>\n",
              "    <tr>\n",
              "      <th>1</th>\n",
              "      <td>Brooklyn</td>\n",
              "      <td>Greenpoint</td>\n",
              "      <td>5bf358689fca56002c251a87</td>\n",
              "      <td>Citroën</td>\n",
              "      <td>23</td>\n",
              "      <td>8.5</td>\n",
              "      <td>3</td>\n",
              "    </tr>\n",
              "    <tr>\n",
              "      <th>2</th>\n",
              "      <td>Brooklyn</td>\n",
              "      <td>Greenpoint</td>\n",
              "      <td>58fd34584382ab70ad90083e</td>\n",
              "      <td>Chez Ma Tante</td>\n",
              "      <td>219</td>\n",
              "      <td>8.9</td>\n",
              "      <td>60</td>\n",
              "    </tr>\n",
              "    <tr>\n",
              "      <th>3</th>\n",
              "      <td>Brooklyn</td>\n",
              "      <td>Greenpoint</td>\n",
              "      <td>4bcf1883c564ef3ba33beff0</td>\n",
              "      <td>Le Gamin</td>\n",
              "      <td>159</td>\n",
              "      <td>7.9</td>\n",
              "      <td>73</td>\n",
              "    </tr>\n",
              "    <tr>\n",
              "      <th>4</th>\n",
              "      <td>Brooklyn</td>\n",
              "      <td>Windsor Terrace</td>\n",
              "      <td>4e7d174cb6340a4da75a2cca</td>\n",
              "      <td>Le Paddock</td>\n",
              "      <td>138</td>\n",
              "      <td>8.8</td>\n",
              "      <td>56</td>\n",
              "    </tr>\n",
              "  </tbody>\n",
              "</table>\n",
              "</div>"
            ],
            "text/plain": [
              "    Borough     Neighborhood                        ID           Name Likes  \\\n",
              "0     Bronx      City Island  4d7aa83ee540f04d66ba16dc      Bistro SK    12   \n",
              "1  Brooklyn       Greenpoint  5bf358689fca56002c251a87        Citroën    23   \n",
              "2  Brooklyn       Greenpoint  58fd34584382ab70ad90083e  Chez Ma Tante   219   \n",
              "3  Brooklyn       Greenpoint  4bcf1883c564ef3ba33beff0       Le Gamin   159   \n",
              "4  Brooklyn  Windsor Terrace  4e7d174cb6340a4da75a2cca     Le Paddock   138   \n",
              "\n",
              "   Rating Tips  \n",
              "0     7.5    7  \n",
              "1     8.5    3  \n",
              "2     8.9   60  \n",
              "3     7.9   73  \n",
              "4     8.8   56  "
            ]
          },
          "metadata": {
            "tags": []
          },
          "execution_count": 20
        }
      ]
    },
    {
      "cell_type": "code",
      "metadata": {
        "id": "JNR59n7_3mK7",
        "colab": {
          "base_uri": "https://localhost:8080/"
        },
        "outputId": "41e0481a-2821-4b74-a906-9345a9681d44"
      },
      "source": [
        "french_rest_ny.shape"
      ],
      "execution_count": null,
      "outputs": [
        {
          "output_type": "execute_result",
          "data": {
            "text/plain": [
              "(81, 4)"
            ]
          },
          "metadata": {
            "tags": []
          },
          "execution_count": 21
        }
      ]
    },
    {
      "cell_type": "markdown",
      "metadata": {
        "id": "vKAgXOuQ3u0L"
      },
      "source": [
        "So we got data for all resturants Now lets save this data to a csv sheet."
      ]
    },
    {
      "cell_type": "code",
      "metadata": {
        "id": "Lg1dAl9f3uVd"
      },
      "source": [
        "french_rest_stats_ny.to_csv('french_rest_stats_ny.csv', index=False)"
      ],
      "execution_count": null,
      "outputs": []
    },
    {
      "cell_type": "markdown",
      "metadata": {
        "id": "o7xbnVtpOlDc"
      },
      "source": [
        "We will now read the csv document to have all data secure"
      ]
    },
    {
      "cell_type": "code",
      "metadata": {
        "id": "vP6GDCNDOkAN"
      },
      "source": [
        "french_rest_stats_ny = pd.read_csv('french_rest_stats_ny.csv')"
      ],
      "execution_count": null,
      "outputs": []
    },
    {
      "cell_type": "code",
      "metadata": {
        "colab": {
          "base_uri": "https://localhost:8080/",
          "height": 204
        },
        "id": "hLpFrpnsO2uj",
        "outputId": "4c4e19aa-4d74-423a-aec7-c7e285a06ae8"
      },
      "source": [
        "french_rest_stats_ny.head()"
      ],
      "execution_count": null,
      "outputs": [
        {
          "output_type": "execute_result",
          "data": {
            "text/html": [
              "<div>\n",
              "<style scoped>\n",
              "    .dataframe tbody tr th:only-of-type {\n",
              "        vertical-align: middle;\n",
              "    }\n",
              "\n",
              "    .dataframe tbody tr th {\n",
              "        vertical-align: top;\n",
              "    }\n",
              "\n",
              "    .dataframe thead th {\n",
              "        text-align: right;\n",
              "    }\n",
              "</style>\n",
              "<table border=\"1\" class=\"dataframe\">\n",
              "  <thead>\n",
              "    <tr style=\"text-align: right;\">\n",
              "      <th></th>\n",
              "      <th>Borough</th>\n",
              "      <th>Neighborhood</th>\n",
              "      <th>ID</th>\n",
              "      <th>Name</th>\n",
              "      <th>Likes</th>\n",
              "      <th>Rating</th>\n",
              "      <th>Tips</th>\n",
              "    </tr>\n",
              "  </thead>\n",
              "  <tbody>\n",
              "    <tr>\n",
              "      <th>0</th>\n",
              "      <td>Bronx</td>\n",
              "      <td>City Island</td>\n",
              "      <td>4d7aa83ee540f04d66ba16dc</td>\n",
              "      <td>Bistro SK</td>\n",
              "      <td>12</td>\n",
              "      <td>7.5</td>\n",
              "      <td>7</td>\n",
              "    </tr>\n",
              "    <tr>\n",
              "      <th>1</th>\n",
              "      <td>Brooklyn</td>\n",
              "      <td>Greenpoint</td>\n",
              "      <td>5bf358689fca56002c251a87</td>\n",
              "      <td>Citroën</td>\n",
              "      <td>23</td>\n",
              "      <td>8.5</td>\n",
              "      <td>3</td>\n",
              "    </tr>\n",
              "    <tr>\n",
              "      <th>2</th>\n",
              "      <td>Brooklyn</td>\n",
              "      <td>Greenpoint</td>\n",
              "      <td>58fd34584382ab70ad90083e</td>\n",
              "      <td>Chez Ma Tante</td>\n",
              "      <td>219</td>\n",
              "      <td>8.9</td>\n",
              "      <td>60</td>\n",
              "    </tr>\n",
              "    <tr>\n",
              "      <th>3</th>\n",
              "      <td>Brooklyn</td>\n",
              "      <td>Greenpoint</td>\n",
              "      <td>4bcf1883c564ef3ba33beff0</td>\n",
              "      <td>Le Gamin</td>\n",
              "      <td>159</td>\n",
              "      <td>7.9</td>\n",
              "      <td>73</td>\n",
              "    </tr>\n",
              "    <tr>\n",
              "      <th>4</th>\n",
              "      <td>Brooklyn</td>\n",
              "      <td>Windsor Terrace</td>\n",
              "      <td>4e7d174cb6340a4da75a2cca</td>\n",
              "      <td>Le Paddock</td>\n",
              "      <td>138</td>\n",
              "      <td>8.8</td>\n",
              "      <td>56</td>\n",
              "    </tr>\n",
              "  </tbody>\n",
              "</table>\n",
              "</div>"
            ],
            "text/plain": [
              "    Borough     Neighborhood                        ID           Name  Likes  \\\n",
              "0     Bronx      City Island  4d7aa83ee540f04d66ba16dc      Bistro SK     12   \n",
              "1  Brooklyn       Greenpoint  5bf358689fca56002c251a87        Citroën     23   \n",
              "2  Brooklyn       Greenpoint  58fd34584382ab70ad90083e  Chez Ma Tante    219   \n",
              "3  Brooklyn       Greenpoint  4bcf1883c564ef3ba33beff0       Le Gamin    159   \n",
              "4  Brooklyn  Windsor Terrace  4e7d174cb6340a4da75a2cca     Le Paddock    138   \n",
              "\n",
              "   Rating  Tips  \n",
              "0     7.5     7  \n",
              "1     8.5     3  \n",
              "2     8.9    60  \n",
              "3     7.9    73  \n",
              "4     8.8    56  "
            ]
          },
          "metadata": {
            "tags": []
          },
          "execution_count": 25
        }
      ]
    },
    {
      "cell_type": "code",
      "metadata": {
        "id": "6WS4AJzr36cL",
        "colab": {
          "base_uri": "https://localhost:8080/"
        },
        "outputId": "fac3c443-1151-440e-a88f-395fea468e7e"
      },
      "source": [
        "french_rest_stats_ny.info()"
      ],
      "execution_count": null,
      "outputs": [
        {
          "output_type": "stream",
          "text": [
            "<class 'pandas.core.frame.DataFrame'>\n",
            "RangeIndex: 81 entries, 0 to 80\n",
            "Data columns (total 7 columns):\n",
            " #   Column        Non-Null Count  Dtype  \n",
            "---  ------        --------------  -----  \n",
            " 0   Borough       81 non-null     object \n",
            " 1   Neighborhood  81 non-null     object \n",
            " 2   ID            81 non-null     object \n",
            " 3   Name          81 non-null     object \n",
            " 4   Likes         81 non-null     int64  \n",
            " 5   Rating        81 non-null     float64\n",
            " 6   Tips          81 non-null     int64  \n",
            "dtypes: float64(1), int64(2), object(4)\n",
            "memory usage: 4.6+ KB\n"
          ],
          "name": "stdout"
        }
      ]
    },
    {
      "cell_type": "markdown",
      "metadata": {
        "id": "KMgeRAJa38rc"
      },
      "source": [
        "We see that values like Likes, Tips are strig values. We would need to convert them into float for further analysis"
      ]
    },
    {
      "cell_type": "code",
      "metadata": {
        "id": "9N4Hy_t338ep",
        "colab": {
          "base_uri": "https://localhost:8080/"
        },
        "outputId": "67b5f1db-2036-4ffc-e5df-cf369a3bfbc0"
      },
      "source": [
        "french_rest_stats_ny['Likes']=french_rest_stats_ny['Likes'].astype('float64')\r\n",
        "french_rest_stats_ny['Tips']=french_rest_stats_ny['Tips'].astype('float64')\r\n",
        "french_rest_stats_ny.info()"
      ],
      "execution_count": null,
      "outputs": [
        {
          "output_type": "stream",
          "text": [
            "<class 'pandas.core.frame.DataFrame'>\n",
            "RangeIndex: 81 entries, 0 to 80\n",
            "Data columns (total 7 columns):\n",
            " #   Column        Non-Null Count  Dtype  \n",
            "---  ------        --------------  -----  \n",
            " 0   Borough       81 non-null     object \n",
            " 1   Neighborhood  81 non-null     object \n",
            " 2   ID            81 non-null     object \n",
            " 3   Name          81 non-null     object \n",
            " 4   Likes         81 non-null     float64\n",
            " 5   Rating        81 non-null     float64\n",
            " 6   Tips          81 non-null     float64\n",
            "dtypes: float64(3), object(4)\n",
            "memory usage: 4.6+ KB\n"
          ],
          "name": "stdout"
        }
      ]
    },
    {
      "cell_type": "markdown",
      "metadata": {
        "id": "-f2H_rzC4GeG"
      },
      "source": [
        "Data is now correct"
      ]
    },
    {
      "cell_type": "markdown",
      "metadata": {
        "id": "Z1EuPQWq4MNy"
      },
      "source": [
        "Let's study which restaurants have the maximum rating"
      ]
    },
    {
      "cell_type": "code",
      "metadata": {
        "id": "pP2FhMDp4WnB",
        "colab": {
          "base_uri": "https://localhost:8080/"
        },
        "outputId": "c14a2b49-5a64-428d-df9b-f128d0cf79da"
      },
      "source": [
        "# Resturant with maximum Rating\r\n",
        "french_rest_stats_ny.iloc[french_rest_stats_ny['Rating'].idxmax()]"
      ],
      "execution_count": null,
      "outputs": [
        {
          "output_type": "execute_result",
          "data": {
            "text/plain": [
              "Borough                        Manhattan\n",
              "Neighborhood                West Village\n",
              "ID              4d0bf7e3f29c236ac675bfe7\n",
              "Name                             Buvette\n",
              "Likes                               1857\n",
              "Rating                               9.3\n",
              "Tips                                 526\n",
              "Name: 53, dtype: object"
            ]
          },
          "metadata": {
            "tags": []
          },
          "execution_count": 29
        }
      ]
    },
    {
      "cell_type": "markdown",
      "metadata": {
        "id": "ADR89RutPZs7"
      },
      "source": [
        "Let's study which restaurants have the maximum tips"
      ]
    },
    {
      "cell_type": "code",
      "metadata": {
        "id": "2NhMBADG4YC3",
        "colab": {
          "base_uri": "https://localhost:8080/"
        },
        "outputId": "ca2060c7-8c4c-4b91-d609-d6000c5a747f"
      },
      "source": [
        "# Resturant with maximum Tips\r\n",
        "french_rest_stats_ny.iloc[french_rest_stats_ny['Tips'].idxmax()]"
      ],
      "execution_count": null,
      "outputs": [
        {
          "output_type": "execute_result",
          "data": {
            "text/plain": [
              "Borough                        Manhattan\n",
              "Neighborhood                Little Italy\n",
              "ID              3fd66200f964a52070e91ee3\n",
              "Name                           Balthazar\n",
              "Likes                               3040\n",
              "Rating                               8.7\n",
              "Tips                                1050\n",
              "Name: 50, dtype: object"
            ]
          },
          "metadata": {
            "tags": []
          },
          "execution_count": 30
        }
      ]
    },
    {
      "cell_type": "markdown",
      "metadata": {
        "id": "FOj8mBCA4gM7"
      },
      "source": [
        "Now we are calculating the average of ratings per neighborhood"
      ]
    },
    {
      "cell_type": "code",
      "metadata": {
        "id": "Zqi2AhaB4hpW"
      },
      "source": [
        "ny_neighborhood_stats=french_rest_stats_ny.groupby('Neighborhood',as_index=False).mean()[['Neighborhood','Rating']]\r\n",
        "ny_neighborhood_stats.columns=['Neighborhood','Average Rating']"
      ],
      "execution_count": null,
      "outputs": []
    },
    {
      "cell_type": "code",
      "metadata": {
        "id": "BveUqV244jmd",
        "colab": {
          "base_uri": "https://localhost:8080/",
          "height": 359
        },
        "outputId": "d69a9e69-6b05-444f-ea19-e0334f6edcf0"
      },
      "source": [
        "ny_neighborhood_stats.sort_values(['Average Rating'],ascending=False).head(10)"
      ],
      "execution_count": null,
      "outputs": [
        {
          "output_type": "execute_result",
          "data": {
            "text/html": [
              "<div>\n",
              "<style scoped>\n",
              "    .dataframe tbody tr th:only-of-type {\n",
              "        vertical-align: middle;\n",
              "    }\n",
              "\n",
              "    .dataframe tbody tr th {\n",
              "        vertical-align: top;\n",
              "    }\n",
              "\n",
              "    .dataframe thead th {\n",
              "        text-align: right;\n",
              "    }\n",
              "</style>\n",
              "<table border=\"1\" class=\"dataframe\">\n",
              "  <thead>\n",
              "    <tr style=\"text-align: right;\">\n",
              "      <th></th>\n",
              "      <th>Neighborhood</th>\n",
              "      <th>Average Rating</th>\n",
              "    </tr>\n",
              "  </thead>\n",
              "  <tbody>\n",
              "    <tr>\n",
              "      <th>46</th>\n",
              "      <td>West Village</td>\n",
              "      <td>9.15</td>\n",
              "    </tr>\n",
              "    <tr>\n",
              "      <th>16</th>\n",
              "      <td>East Harlem</td>\n",
              "      <td>9.10</td>\n",
              "    </tr>\n",
              "    <tr>\n",
              "      <th>39</th>\n",
              "      <td>South Side</td>\n",
              "      <td>9.00</td>\n",
              "    </tr>\n",
              "    <tr>\n",
              "      <th>8</th>\n",
              "      <td>Chelsea</td>\n",
              "      <td>9.00</td>\n",
              "    </tr>\n",
              "    <tr>\n",
              "      <th>38</th>\n",
              "      <td>Soho</td>\n",
              "      <td>8.95</td>\n",
              "    </tr>\n",
              "    <tr>\n",
              "      <th>21</th>\n",
              "      <td>Greenwich Village</td>\n",
              "      <td>8.95</td>\n",
              "    </tr>\n",
              "    <tr>\n",
              "      <th>33</th>\n",
              "      <td>Noho</td>\n",
              "      <td>8.90</td>\n",
              "    </tr>\n",
              "    <tr>\n",
              "      <th>31</th>\n",
              "      <td>Midtown</td>\n",
              "      <td>8.90</td>\n",
              "    </tr>\n",
              "    <tr>\n",
              "      <th>48</th>\n",
              "      <td>Yorkville</td>\n",
              "      <td>8.80</td>\n",
              "    </tr>\n",
              "    <tr>\n",
              "      <th>47</th>\n",
              "      <td>Windsor Terrace</td>\n",
              "      <td>8.80</td>\n",
              "    </tr>\n",
              "  </tbody>\n",
              "</table>\n",
              "</div>"
            ],
            "text/plain": [
              "         Neighborhood  Average Rating\n",
              "46       West Village            9.15\n",
              "16        East Harlem            9.10\n",
              "39         South Side            9.00\n",
              "8             Chelsea            9.00\n",
              "38               Soho            8.95\n",
              "21  Greenwich Village            8.95\n",
              "33               Noho            8.90\n",
              "31            Midtown            8.90\n",
              "48          Yorkville            8.80\n",
              "47    Windsor Terrace            8.80"
            ]
          },
          "metadata": {
            "tags": []
          },
          "execution_count": 33
        }
      ]
    },
    {
      "cell_type": "markdown",
      "metadata": {
        "id": "j-hBa91T4mkk"
      },
      "source": [
        "\r\n",
        "\r\n",
        "Above are the top neighborhoods with top average rating of french resturant\r\n"
      ]
    },
    {
      "cell_type": "code",
      "metadata": {
        "id": "24K-P8JW4jj7"
      },
      "source": [
        "ny_borough_stats=french_rest_stats_ny.groupby('Borough',as_index=False).mean()[['Borough','Rating']]\r\n",
        "ny_borough_stats.columns=['Borough','Average Rating']"
      ],
      "execution_count": null,
      "outputs": []
    },
    {
      "cell_type": "code",
      "metadata": {
        "colab": {
          "base_uri": "https://localhost:8080/",
          "height": 204
        },
        "id": "PgW4uBZ3P07k",
        "outputId": "325983e9-ca1a-4f0e-f020-aa7b89b1539e"
      },
      "source": [
        "ny_borough_stats.sort_values(['Average Rating'],ascending=False).head(10)"
      ],
      "execution_count": null,
      "outputs": [
        {
          "output_type": "execute_result",
          "data": {
            "text/html": [
              "<div>\n",
              "<style scoped>\n",
              "    .dataframe tbody tr th:only-of-type {\n",
              "        vertical-align: middle;\n",
              "    }\n",
              "\n",
              "    .dataframe tbody tr th {\n",
              "        vertical-align: top;\n",
              "    }\n",
              "\n",
              "    .dataframe thead th {\n",
              "        text-align: right;\n",
              "    }\n",
              "</style>\n",
              "<table border=\"1\" class=\"dataframe\">\n",
              "  <thead>\n",
              "    <tr style=\"text-align: right;\">\n",
              "      <th></th>\n",
              "      <th>Borough</th>\n",
              "      <th>Average Rating</th>\n",
              "    </tr>\n",
              "  </thead>\n",
              "  <tbody>\n",
              "    <tr>\n",
              "      <th>2</th>\n",
              "      <td>Manhattan</td>\n",
              "      <td>8.638298</td>\n",
              "    </tr>\n",
              "    <tr>\n",
              "      <th>1</th>\n",
              "      <td>Brooklyn</td>\n",
              "      <td>8.408000</td>\n",
              "    </tr>\n",
              "    <tr>\n",
              "      <th>3</th>\n",
              "      <td>Queens</td>\n",
              "      <td>8.000000</td>\n",
              "    </tr>\n",
              "    <tr>\n",
              "      <th>0</th>\n",
              "      <td>Bronx</td>\n",
              "      <td>7.500000</td>\n",
              "    </tr>\n",
              "    <tr>\n",
              "      <th>4</th>\n",
              "      <td>Staten Island</td>\n",
              "      <td>7.100000</td>\n",
              "    </tr>\n",
              "  </tbody>\n",
              "</table>\n",
              "</div>"
            ],
            "text/plain": [
              "         Borough  Average Rating\n",
              "2      Manhattan        8.638298\n",
              "1       Brooklyn        8.408000\n",
              "3         Queens        8.000000\n",
              "0          Bronx        7.500000\n",
              "4  Staten Island        7.100000"
            ]
          },
          "metadata": {
            "tags": []
          },
          "execution_count": 48
        }
      ]
    },
    {
      "cell_type": "markdown",
      "metadata": {
        "id": "W1QT6oST4pni"
      },
      "source": [
        "Similarly these are the top average rating of french Resturants for each Borough"
      ]
    },
    {
      "cell_type": "markdown",
      "metadata": {
        "id": "OM0J2LHg4zXK"
      },
      "source": [
        "We will consider all the neighborhoods with average rating greater or equal 9.0 to visualize on map"
      ]
    },
    {
      "cell_type": "code",
      "metadata": {
        "id": "dURP4WF84jhW"
      },
      "source": [
        "ny_neighborhood_stats=ny_neighborhood_stats[ny_neighborhood_stats['Average Rating']>=9.0]"
      ],
      "execution_count": null,
      "outputs": []
    },
    {
      "cell_type": "code",
      "metadata": {
        "id": "L5qACxJA4jes",
        "colab": {
          "base_uri": "https://localhost:8080/",
          "height": 173
        },
        "outputId": "9328efcd-4eda-475c-a3d2-8454cf81a1bc"
      },
      "source": [
        "ny_neighborhood_stats"
      ],
      "execution_count": null,
      "outputs": [
        {
          "output_type": "execute_result",
          "data": {
            "text/html": [
              "<div>\n",
              "<style scoped>\n",
              "    .dataframe tbody tr th:only-of-type {\n",
              "        vertical-align: middle;\n",
              "    }\n",
              "\n",
              "    .dataframe tbody tr th {\n",
              "        vertical-align: top;\n",
              "    }\n",
              "\n",
              "    .dataframe thead th {\n",
              "        text-align: right;\n",
              "    }\n",
              "</style>\n",
              "<table border=\"1\" class=\"dataframe\">\n",
              "  <thead>\n",
              "    <tr style=\"text-align: right;\">\n",
              "      <th></th>\n",
              "      <th>Neighborhood</th>\n",
              "      <th>Average Rating</th>\n",
              "    </tr>\n",
              "  </thead>\n",
              "  <tbody>\n",
              "    <tr>\n",
              "      <th>8</th>\n",
              "      <td>Chelsea</td>\n",
              "      <td>9.00</td>\n",
              "    </tr>\n",
              "    <tr>\n",
              "      <th>16</th>\n",
              "      <td>East Harlem</td>\n",
              "      <td>9.10</td>\n",
              "    </tr>\n",
              "    <tr>\n",
              "      <th>39</th>\n",
              "      <td>South Side</td>\n",
              "      <td>9.00</td>\n",
              "    </tr>\n",
              "    <tr>\n",
              "      <th>46</th>\n",
              "      <td>West Village</td>\n",
              "      <td>9.15</td>\n",
              "    </tr>\n",
              "  </tbody>\n",
              "</table>\n",
              "</div>"
            ],
            "text/plain": [
              "    Neighborhood  Average Rating\n",
              "8        Chelsea            9.00\n",
              "16   East Harlem            9.10\n",
              "39    South Side            9.00\n",
              "46  West Village            9.15"
            ]
          },
          "metadata": {
            "tags": []
          },
          "execution_count": 38
        }
      ]
    },
    {
      "cell_type": "markdown",
      "metadata": {
        "id": "xM_SCLYz45L9"
      },
      "source": [
        "We will join this dataset to original new york data to get lonitude and latitude"
      ]
    },
    {
      "cell_type": "code",
      "metadata": {
        "id": "nAAFqX_G4jVi"
      },
      "source": [
        "ny_neighborhood_stats=pd.merge(ny_neighborhood_stats,new_york_data, on='Neighborhood')"
      ],
      "execution_count": null,
      "outputs": []
    },
    {
      "cell_type": "code",
      "metadata": {
        "id": "dcgY6sIz48Rq",
        "colab": {
          "base_uri": "https://localhost:8080/",
          "height": 204
        },
        "outputId": "2d6c0349-10d3-443b-fa7b-c72bf2bf49c8"
      },
      "source": [
        "ny_neighborhood_stats=ny_neighborhood_stats[['Borough','Neighborhood','Latitude','Longitude','Average Rating']]\r\n",
        "ny_neighborhood_stats"
      ],
      "execution_count": null,
      "outputs": [
        {
          "output_type": "execute_result",
          "data": {
            "text/html": [
              "<div>\n",
              "<style scoped>\n",
              "    .dataframe tbody tr th:only-of-type {\n",
              "        vertical-align: middle;\n",
              "    }\n",
              "\n",
              "    .dataframe tbody tr th {\n",
              "        vertical-align: top;\n",
              "    }\n",
              "\n",
              "    .dataframe thead th {\n",
              "        text-align: right;\n",
              "    }\n",
              "</style>\n",
              "<table border=\"1\" class=\"dataframe\">\n",
              "  <thead>\n",
              "    <tr style=\"text-align: right;\">\n",
              "      <th></th>\n",
              "      <th>Borough</th>\n",
              "      <th>Neighborhood</th>\n",
              "      <th>Latitude</th>\n",
              "      <th>Longitude</th>\n",
              "      <th>Average Rating</th>\n",
              "    </tr>\n",
              "  </thead>\n",
              "  <tbody>\n",
              "    <tr>\n",
              "      <th>0</th>\n",
              "      <td>Manhattan</td>\n",
              "      <td>Chelsea</td>\n",
              "      <td>40.744035</td>\n",
              "      <td>-74.003116</td>\n",
              "      <td>9.00</td>\n",
              "    </tr>\n",
              "    <tr>\n",
              "      <th>1</th>\n",
              "      <td>Staten Island</td>\n",
              "      <td>Chelsea</td>\n",
              "      <td>40.594726</td>\n",
              "      <td>-74.189560</td>\n",
              "      <td>9.00</td>\n",
              "    </tr>\n",
              "    <tr>\n",
              "      <th>2</th>\n",
              "      <td>Manhattan</td>\n",
              "      <td>East Harlem</td>\n",
              "      <td>40.792249</td>\n",
              "      <td>-73.944182</td>\n",
              "      <td>9.10</td>\n",
              "    </tr>\n",
              "    <tr>\n",
              "      <th>3</th>\n",
              "      <td>Brooklyn</td>\n",
              "      <td>South Side</td>\n",
              "      <td>40.710861</td>\n",
              "      <td>-73.958001</td>\n",
              "      <td>9.00</td>\n",
              "    </tr>\n",
              "    <tr>\n",
              "      <th>4</th>\n",
              "      <td>Manhattan</td>\n",
              "      <td>West Village</td>\n",
              "      <td>40.734434</td>\n",
              "      <td>-74.006180</td>\n",
              "      <td>9.15</td>\n",
              "    </tr>\n",
              "  </tbody>\n",
              "</table>\n",
              "</div>"
            ],
            "text/plain": [
              "         Borough  Neighborhood   Latitude  Longitude  Average Rating\n",
              "0      Manhattan       Chelsea  40.744035 -74.003116            9.00\n",
              "1  Staten Island       Chelsea  40.594726 -74.189560            9.00\n",
              "2      Manhattan   East Harlem  40.792249 -73.944182            9.10\n",
              "3       Brooklyn    South Side  40.710861 -73.958001            9.00\n",
              "4      Manhattan  West Village  40.734434 -74.006180            9.15"
            ]
          },
          "metadata": {
            "tags": []
          },
          "execution_count": 40
        }
      ]
    },
    {
      "cell_type": "markdown",
      "metadata": {
        "id": "eJcmnj9M5EWC"
      },
      "source": [
        "Now we will show this data on a map"
      ]
    },
    {
      "cell_type": "code",
      "metadata": {
        "id": "2kyzD-ki5EKZ"
      },
      "source": [
        "# create map and display it\r\n",
        "ny_map = folium.Map(location=geo_location('New York'), zoom_start=12)"
      ],
      "execution_count": null,
      "outputs": []
    },
    {
      "cell_type": "code",
      "metadata": {
        "id": "55w-1bhW5HQu"
      },
      "source": [
        "# instantiate a feature group for the incidents in the dataframe\r\n",
        "incidents = folium.map.FeatureGroup()\r\n",
        "\r\n",
        "# loop through the 100 crimes and add each to the incidents feature group\r\n",
        "for lat, lng, in ny_neighborhood_stats[['Latitude','Longitude']].values:\r\n",
        "    incidents.add_child(\r\n",
        "        folium.CircleMarker(\r\n",
        "            [lat, lng],\r\n",
        "            radius=10, # define how big you want the circle markers to be\r\n",
        "            color='yellow',\r\n",
        "            fill=True,\r\n",
        "            fill_color='blue',\r\n",
        "            fill_opacity=0.6\r\n",
        "        )\r\n",
        "    )"
      ],
      "execution_count": null,
      "outputs": []
    },
    {
      "cell_type": "markdown",
      "metadata": {
        "id": "VUrmNn5p5SNe"
      },
      "source": [
        "Lets add a new field to dataframe for labeling purpose"
      ]
    },
    {
      "cell_type": "code",
      "metadata": {
        "id": "p94VGfVm5Tt2"
      },
      "source": [
        "ny_neighborhood_stats['Label']=ny_neighborhood_stats['Neighborhood']+', '+ny_neighborhood_stats['Borough']+'('+ny_neighborhood_stats['Average Rating'].map(str)+')'"
      ],
      "execution_count": null,
      "outputs": []
    },
    {
      "cell_type": "code",
      "metadata": {
        "id": "MykVuE9v5Vlf",
        "colab": {
          "base_uri": "https://localhost:8080/",
          "height": 519
        },
        "outputId": "1a386d42-02bf-4f79-bc26-8b8e3787c071"
      },
      "source": [
        "# add pop-up text to each marker on the map\r\n",
        "for lat, lng, label in ny_neighborhood_stats[['Latitude','Longitude','Label']].values:\r\n",
        "    folium.Marker([lat, lng], popup=label).add_to(ny_map)        \r\n",
        "# add incidents to map\r\n",
        "ny_map.add_child(incidents)"
      ],
      "execution_count": null,
      "outputs": [
        {
          "output_type": "execute_result",
          "data": {
            "text/html": [
              "<div style=\"width:100%;\"><div style=\"position:relative;width:100%;height:0;padding-bottom:60%;\"><span style=\"color:#565656\">Make this Notebook Trusted to load map: File -> Trust Notebook</span><iframe src=\"about:blank\" style=\"position:absolute;width:100%;height:100%;left:0;top:0;border:none !important;\" data-html=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 onload=\"this.contentDocument.open();this.contentDocument.write(atob(this.getAttribute('data-html')));this.contentDocument.close();\" allowfullscreen webkitallowfullscreen mozallowfullscreen></iframe></div></div>"
            ],
            "text/plain": [
              "<folium.folium.Map at 0x7fcfa83465f8>"
            ]
          },
          "metadata": {
            "tags": []
          },
          "execution_count": 44
        }
      ]
    },
    {
      "cell_type": "markdown",
      "metadata": {
        "id": "dP1CFlpL5dVE"
      },
      "source": [
        "# Conclusion\r\n",
        "\r\n",
        "\r\n",
        "\r\n",
        "1.   West Village (Manhattan)  and East Harlem (Manhattan) are some of the best neighborhoods for french restaurants.\r\n",
        "\r\n",
        "1. Manhattan has a potential french restaurant market and it is the best place to stay if you enjoy french cuisine.\r\n",
        "1. Staten Island ranks last in average rating of french Resturants.\r\n",
        "\r\n",
        "1. Limitations: The ranking is purely based on restaurant raitings. The accuracy of data purely depends on the data provided by FourSquare\r\n",
        "\r\n",
        "\r\n"
      ]
    }
  ]
}