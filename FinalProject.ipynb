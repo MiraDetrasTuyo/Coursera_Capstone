{
  "nbformat": 4,
  "nbformat_minor": 0,
  "metadata": {
    "colab": {
      "name": "FinalProject.ipynb",
      "provenance": [],
      "authorship_tag": "ABX9TyPMrc4OL1p3ZH03AucEj2Nt",
      "include_colab_link": true
    },
    "kernelspec": {
      "name": "python3",
      "display_name": "Python 3"
    }
  },
  "cells": [
    {
      "cell_type": "markdown",
      "metadata": {
        "id": "view-in-github",
        "colab_type": "text"
      },
      "source": [
        "<a href=\"https://colab.research.google.com/github/MiraDetrasTuyo/Coursera_Capstone/blob/main/FinalProject.ipynb\" target=\"_parent\"><img src=\"https://colab.research.google.com/assets/colab-badge.svg\" alt=\"Open In Colab\"/></a>"
      ]
    },
    {
      "cell_type": "code",
      "metadata": {
        "id": "zKy03YZ6VL0B"
      },
      "source": [
        "# Importing libraries\r\n",
        "\r\n",
        "import pandas as pd"
      ],
      "execution_count": 2,
      "outputs": []
    },
    {
      "cell_type": "code",
      "metadata": {
        "colab": {
          "base_uri": "https://localhost:8080/"
        },
        "id": "tN7xb4RGVSC6",
        "outputId": "0aa23339-99ee-4156-bc49-113d5c4c6bc0"
      },
      "source": [
        "# Scrapping the table from wikipedia\r\n",
        "import pandas as pd\r\n",
        "import numpy as np\r\n",
        "import requests\r\n",
        "\r\n",
        "from bs4 import BeautifulSoup\r\n",
        "\r\n",
        "\r\n",
        "source = requests.get('https://en.wikipedia.org/wiki/List_of_postal_codes_of_Canada:_M').text\r\n",
        "\r\n",
        "soup = BeautifulSoup(source, 'html5lib')\r\n",
        "\r\n",
        "postal_codes_dict = {} # initialize an empty dictionary to save the data in\r\n",
        "for table_cell in soup.find_all('td'):\r\n",
        "    try:\r\n",
        "        postal_code = table_cell.p.b.text # get the postal code\r\n",
        "        postal_code_investigate = table_cell.span.text\r\n",
        "        neighborhoods_data = table_cell.span.text # get the rest of the data in the cell\r\n",
        "        borough = neighborhoods_data.split('(')[0] # get the borough in the cell\r\n",
        "        \r\n",
        "        # if the cell is not assigned then ignore it\r\n",
        "        if neighborhoods_data == 'Not assigned':\r\n",
        "            neighborhoods = []\r\n",
        "        # else process the data and add it to the dictionary\r\n",
        "        else:\r\n",
        "            postal_codes_dict[postal_code] = {}\r\n",
        "            \r\n",
        "            try:\r\n",
        "                neighborhoods = neighborhoods_data.split('(')[1]\r\n",
        "            \r\n",
        "                # remove parantheses from neighborhoods string\r\n",
        "                neighborhoods = neighborhoods.replace('(', ' ')\r\n",
        "                neighborhoods = neighborhoods.replace(')', ' ')\r\n",
        "\r\n",
        "                neighborhoods_names = neighborhoods.split('/')\r\n",
        "                neighborhoods_clean = ', '.join([name.strip() for name in neighborhoods_names])\r\n",
        "            except:\r\n",
        "                borough = borough.strip('\\n')\r\n",
        "                neighborhoods_clean = borough\r\n",
        " \r\n",
        "            # add borough and neighborhood to dictionary\r\n",
        "            postal_codes_dict[postal_code]['borough'] = borough\r\n",
        "            postal_codes_dict[postal_code]['neighborhoods'] = neighborhoods_clean\r\n",
        "    except:\r\n",
        "        pass\r\n",
        "    \r\n",
        "# create an empty dataframe\r\n",
        "columns = ['PostalCode', 'Borough', 'Neighborhood']\r\n",
        "toronto_data = pd.DataFrame(columns=columns)\r\n",
        "toronto_data\r\n",
        "\r\n",
        "# populate dataframe with data from dictionary\r\n",
        "for ind, postal_code in enumerate(postal_codes_dict):\r\n",
        "    borough = postal_codes_dict[postal_code]['borough']\r\n",
        "    neighborhood = postal_codes_dict[postal_code]['neighborhoods']\r\n",
        "    toronto_data = toronto_data.append({\"PostalCode\": postal_code, \r\n",
        "                                        \"Borough\": borough, \r\n",
        "                                        \"Neighborhood\": neighborhood},\r\n",
        "                                        ignore_index=True)\r\n",
        "\r\n",
        "# print number of rows of dataframe\r\n",
        "toronto_data.shape[0]"
      ],
      "execution_count": 4,
      "outputs": [
        {
          "output_type": "execute_result",
          "data": {
            "text/plain": [
              "0"
            ]
          },
          "metadata": {
            "tags": []
          },
          "execution_count": 4
        }
      ]
    }
  ]
}